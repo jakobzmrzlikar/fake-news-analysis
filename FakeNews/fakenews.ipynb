{
 "cells": [
  {
   "cell_type": "markdown",
   "metadata": {},
   "source": [
    "# Fake news data analysis on the FakeNewsNet dataset"
   ]
  },
  {
   "cell_type": "code",
   "execution_count": 1,
   "metadata": {},
   "outputs": [
    {
     "name": "stderr",
     "output_type": "stream",
     "text": [
      "[nltk_data] Downloading package stopwords to /home/jakob/nltk_data...\n",
      "[nltk_data]   Package stopwords is already up-to-date!\n",
      "[nltk_data] Downloading package punkt to /home/jakob/nltk_data...\n",
      "[nltk_data]   Package punkt is already up-to-date!\n",
      "[nltk_data] Downloading package wordnet to /home/jakob/nltk_data...\n",
      "[nltk_data]   Package wordnet is already up-to-date!\n"
     ]
    }
   ],
   "source": [
    "import re\n",
    "import matplotlib.pyplot as plt\n",
    "import pandas as pd\n",
    "import numpy as np\n",
    "import seaborn as sns\n",
    "from io import StringIO\n",
    "from scipy import special\n",
    "\n",
    "from pandarallel import pandarallel\n",
    "\n",
    "from sklearn import svm\n",
    "from sklearn.feature_extraction.text import CountVectorizer, TfidfTransformer\n",
    "from sklearn.decomposition import PCA, TruncatedSVD, LatentDirichletAllocation\n",
    "from sklearn.manifold import TSNE\n",
    "from sklearn.model_selection import train_test_split\n",
    "from sklearn.metrics import accuracy_score\n",
    "from joblib import dump, load\n",
    "\n",
    "import nltk\n",
    "from nltk.tokenize import word_tokenize, TweetTokenizer\n",
    "from nltk.corpus import stopwords\n",
    "from nltk.stem import WordNetLemmatizer\n",
    "from nltk.stem.porter import *\n",
    "\n",
    "nltk.download(\"stopwords\")\n",
    "nltk.download('punkt')\n",
    "nltk.download('wordnet')\n",
    "\n",
    "sns.set_theme()\n",
    "\n",
    "from utils import collect_tweets, collect_news\n",
    "\n",
    "%matplotlib inline\n"
   ]
  },
  {
   "cell_type": "code",
   "execution_count": 2,
   "metadata": {},
   "outputs": [
    {
     "name": "stdout",
     "output_type": "stream",
     "text": [
      "INFO: Pandarallel will run on 8 workers.\n",
      "INFO: Pandarallel will use Memory file system to transfer data between the main process and workers.\n"
     ]
    }
   ],
   "source": [
    "root_dir = \"/mnt/213A37C1342A39BE/Projects/FakeNewsNet/code/fakenewsnet_dataset/\"\n",
    "\n",
    "datasets = [\n",
    "    \"politifact\",\n",
    "    \"gossipcop\"\n",
    "]\n",
    "\n",
    "random_state = 42    # For reproducable random initialization \n",
    "pandarallel.initialize(use_memory_fs=True)  # initialization for pandas multiprocessing\n"
   ]
  },
  {
   "cell_type": "markdown",
   "metadata": {},
   "source": [
    "## Analyzing news articles\n",
    "\n",
    "The first part of the analysis will be focused on analysing the news articles. We load them into memory using helper functions defined in ``utils.py``."
   ]
  },
  {
   "cell_type": "code",
   "execution_count": 3,
   "metadata": {},
   "outputs": [
    {
     "data": {
      "text/html": [
       "<div>\n",
       "<style scoped>\n",
       "    .dataframe tbody tr th:only-of-type {\n",
       "        vertical-align: middle;\n",
       "    }\n",
       "\n",
       "    .dataframe tbody tr th {\n",
       "        vertical-align: top;\n",
       "    }\n",
       "\n",
       "    .dataframe thead th {\n",
       "        text-align: right;\n",
       "    }\n",
       "</style>\n",
       "<table border=\"1\" class=\"dataframe\">\n",
       "  <thead>\n",
       "    <tr style=\"text-align: right;\">\n",
       "      <th></th>\n",
       "      <th>url</th>\n",
       "      <th>text</th>\n",
       "      <th>images</th>\n",
       "      <th>top_img</th>\n",
       "      <th>keywords</th>\n",
       "      <th>authors</th>\n",
       "      <th>canonical_link</th>\n",
       "      <th>title</th>\n",
       "      <th>meta_data</th>\n",
       "      <th>movies</th>\n",
       "      <th>publish_date</th>\n",
       "      <th>source</th>\n",
       "      <th>summary</th>\n",
       "      <th>truth</th>\n",
       "    </tr>\n",
       "  </thead>\n",
       "  <tbody>\n",
       "    <tr>\n",
       "      <th>0</th>\n",
       "      <td>http://www.senate.gov/legislative/LIS/roll_cal...</td>\n",
       "      <td>Roll Call Vote 111th Congress - 1st Session\\n\\...</td>\n",
       "      <td>[http://www.senate.gov/resources/images/usFlag...</td>\n",
       "      <td>http://www.senate.gov/resources/images/us_sen.ico</td>\n",
       "      <td>[]</td>\n",
       "      <td>[]</td>\n",
       "      <td></td>\n",
       "      <td>U.S. Senate: U.S. Senate Roll Call Votes 111th...</td>\n",
       "      <td>{'viewport': 'width=device-width, initial-scal...</td>\n",
       "      <td>[]</td>\n",
       "      <td>NaN</td>\n",
       "      <td>http://www.senate.gov</td>\n",
       "      <td></td>\n",
       "      <td>real</td>\n",
       "    </tr>\n",
       "    <tr>\n",
       "      <th>1</th>\n",
       "      <td>http://www.politico.com/news/stories/0509/2241...</td>\n",
       "      <td>Barack Obama ended up in the middle of an unli...</td>\n",
       "      <td>[data:image/gif;base64,R0lGODlhAQABAAAAACH5BAE...</td>\n",
       "      <td>http://s3-origin-images.politico.com/news/0905...</td>\n",
       "      <td>[]</td>\n",
       "      <td>[Alexander Burns]</td>\n",
       "      <td>https://www.politico.com/story/2009/05/trump-o...</td>\n",
       "      <td>Trump on Prejean: Same as Obama</td>\n",
       "      <td>{'article': {'opinion': 'false'}, 'og': {'titl...</td>\n",
       "      <td>[]</td>\n",
       "      <td>1.242120e+09</td>\n",
       "      <td>http://www.politico.com</td>\n",
       "      <td></td>\n",
       "      <td>real</td>\n",
       "    </tr>\n",
       "    <tr>\n",
       "      <th>2</th>\n",
       "      <td>http://pollingreport.com/CongJob.htm</td>\n",
       "      <td>Follow @pollreport CONGRESS – Job Rating See a...</td>\n",
       "      <td>[http://pollingreport.com/images/logo3.gif]</td>\n",
       "      <td></td>\n",
       "      <td>[]</td>\n",
       "      <td>[]</td>\n",
       "      <td></td>\n",
       "      <td>Congress: Job Ratings</td>\n",
       "      <td>{'GENERATOR': 'Microsoft FrontPage 5.0', 'Micr...</td>\n",
       "      <td>[]</td>\n",
       "      <td>NaN</td>\n",
       "      <td>http://pollingreport.com</td>\n",
       "      <td></td>\n",
       "      <td>real</td>\n",
       "    </tr>\n",
       "    <tr>\n",
       "      <th>3</th>\n",
       "      <td>https://web.archive.org/web/20090514023215/htt...</td>\n",
       "      <td>House GOP Introduces Keep Terrorists Out of Am...</td>\n",
       "      <td>[https://web.archive.org/web/20090514023215im_...</td>\n",
       "      <td>https://web.archive.org/web/20090514023215im_/...</td>\n",
       "      <td>[]</td>\n",
       "      <td>[]</td>\n",
       "      <td></td>\n",
       "      <td>House GOP Introduces Keep Terrorists Out of Am...</td>\n",
       "      <td>{}</td>\n",
       "      <td>[]</td>\n",
       "      <td>NaN</td>\n",
       "      <td>https://web.archive.org</td>\n",
       "      <td></td>\n",
       "      <td>real</td>\n",
       "    </tr>\n",
       "    <tr>\n",
       "      <th>4</th>\n",
       "      <td>https://web.archive.org/web/20061116002411/htt...</td>\n",
       "      <td>'); //--&gt; E-mail | Print | Comments | Request ...</td>\n",
       "      <td>[https://web.archive.org/web/20061116002411im_...</td>\n",
       "      <td>https://web.archive.org/web/20061116002411im_/...</td>\n",
       "      <td>[]</td>\n",
       "      <td>[Robert Lenzner]</td>\n",
       "      <td></td>\n",
       "      <td>Is The End In Sight For Supermax?</td>\n",
       "      <td>{'description': 'Americas most secure and most...</td>\n",
       "      <td>[]</td>\n",
       "      <td>1.145052e+09</td>\n",
       "      <td>https://web.archive.org</td>\n",
       "      <td></td>\n",
       "      <td>real</td>\n",
       "    </tr>\n",
       "    <tr>\n",
       "      <th>...</th>\n",
       "      <td>...</td>\n",
       "      <td>...</td>\n",
       "      <td>...</td>\n",
       "      <td>...</td>\n",
       "      <td>...</td>\n",
       "      <td>...</td>\n",
       "      <td>...</td>\n",
       "      <td>...</td>\n",
       "      <td>...</td>\n",
       "      <td>...</td>\n",
       "      <td>...</td>\n",
       "      <td>...</td>\n",
       "      <td>...</td>\n",
       "      <td>...</td>\n",
       "    </tr>\n",
       "    <tr>\n",
       "      <th>921</th>\n",
       "      <td>http://channel24news.com/2017/06/manager-kille...</td>\n",
       "      <td>10:30 pm last night police received a call abo...</td>\n",
       "      <td>[https://pranksocial.com/wp-content/uploads/20...</td>\n",
       "      <td>https://channel24news.com/wp-content/uploads/2...</td>\n",
       "      <td>[]</td>\n",
       "      <td>[]</td>\n",
       "      <td>https://channel24news.com/2017/06/manager-kill...</td>\n",
       "      <td>Manager killed 10 employees at checkers on 183...</td>\n",
       "      <td>{'viewport': 'width=device-width, initial-scal...</td>\n",
       "      <td>[]</td>\n",
       "      <td>1.498167e+09</td>\n",
       "      <td>http://channel24news.com</td>\n",
       "      <td></td>\n",
       "      <td>fake</td>\n",
       "    </tr>\n",
       "    <tr>\n",
       "      <th>922</th>\n",
       "      <td>https://web.archive.org/web/20170629142109/htt...</td>\n",
       "      <td>WASHINGTON, D.C. (AP) — At a press conference ...</td>\n",
       "      <td>[https://web.archive.org/web/20170629142109im_...</td>\n",
       "      <td>https://web.archive.org/web/20170629142109im_/...</td>\n",
       "      <td>[]</td>\n",
       "      <td>[Jimmy Rustling, Born At An Early Age, Jimmy R...</td>\n",
       "      <td>https://web.archive.org/web/20170629142109/htt...</td>\n",
       "      <td>Paul Ryan: “Donald Trump Plans To Resign From ...</td>\n",
       "      <td>{'viewport': 'width=device-width, initial-scal...</td>\n",
       "      <td>[]</td>\n",
       "      <td>1.498617e+09</td>\n",
       "      <td>https://web.archive.org</td>\n",
       "      <td></td>\n",
       "      <td>fake</td>\n",
       "    </tr>\n",
       "    <tr>\n",
       "      <th>923</th>\n",
       "      <td>http://politicot.com/spicer-trump-legal-right-...</td>\n",
       "      <td>For full functionality of this site it is nece...</td>\n",
       "      <td>[data:image/x-icon;,]</td>\n",
       "      <td>data:image/x-icon;,</td>\n",
       "      <td>[]</td>\n",
       "      <td>[]</td>\n",
       "      <td></td>\n",
       "      <td></td>\n",
       "      <td>{'viewport': 'width=device-width,initial-scale...</td>\n",
       "      <td>[]</td>\n",
       "      <td>NaN</td>\n",
       "      <td>http://politicot.com</td>\n",
       "      <td></td>\n",
       "      <td>fake</td>\n",
       "    </tr>\n",
       "    <tr>\n",
       "      <th>924</th>\n",
       "      <td>https://web.archive.org/web/20170625021133/htt...</td>\n",
       "      <td>As we promised, Freedom Crossroads has just le...</td>\n",
       "      <td>[https://web.archive.org/web/20170625021133im_...</td>\n",
       "      <td>https://web.archive.org/web/20170625021133im_/...</td>\n",
       "      <td>[]</td>\n",
       "      <td>[]</td>\n",
       "      <td>https://web.archive.org/web/20170625021133/htt...</td>\n",
       "      <td>BREAKING: The Democrat James Comey Has Been Ha...</td>\n",
       "      <td>{'viewport': 'width=device-width, initial-scal...</td>\n",
       "      <td>[]</td>\n",
       "      <td>1.498078e+09</td>\n",
       "      <td>https://web.archive.org</td>\n",
       "      <td></td>\n",
       "      <td>fake</td>\n",
       "    </tr>\n",
       "    <tr>\n",
       "      <th>925</th>\n",
       "      <td>https://web.archive.org/web/20170710041423/htt...</td>\n",
       "      <td>On Sunday, ex-Rep. Michelle Bachmann spoke wit...</td>\n",
       "      <td>[https://web.archive.org/web/20170710041423im_...</td>\n",
       "      <td>https://web.archive.org/web/20170710041423im_/...</td>\n",
       "      <td>[]</td>\n",
       "      <td>[]</td>\n",
       "      <td>https://web.archive.org/web/20170710041423/htt...</td>\n",
       "      <td>Bachmann: “White People Have Suffered More In ...</td>\n",
       "      <td>{'viewport': 'user-scalable=yes, width=device-...</td>\n",
       "      <td>[]</td>\n",
       "      <td>1.499378e+09</td>\n",
       "      <td>https://web.archive.org</td>\n",
       "      <td></td>\n",
       "      <td>fake</td>\n",
       "    </tr>\n",
       "  </tbody>\n",
       "</table>\n",
       "<p>926 rows × 14 columns</p>\n",
       "</div>"
      ],
      "text/plain": [
       "                                                   url  \\\n",
       "0    http://www.senate.gov/legislative/LIS/roll_cal...   \n",
       "1    http://www.politico.com/news/stories/0509/2241...   \n",
       "2                 http://pollingreport.com/CongJob.htm   \n",
       "3    https://web.archive.org/web/20090514023215/htt...   \n",
       "4    https://web.archive.org/web/20061116002411/htt...   \n",
       "..                                                 ...   \n",
       "921  http://channel24news.com/2017/06/manager-kille...   \n",
       "922  https://web.archive.org/web/20170629142109/htt...   \n",
       "923  http://politicot.com/spicer-trump-legal-right-...   \n",
       "924  https://web.archive.org/web/20170625021133/htt...   \n",
       "925  https://web.archive.org/web/20170710041423/htt...   \n",
       "\n",
       "                                                  text  \\\n",
       "0    Roll Call Vote 111th Congress - 1st Session\\n\\...   \n",
       "1    Barack Obama ended up in the middle of an unli...   \n",
       "2    Follow @pollreport CONGRESS – Job Rating See a...   \n",
       "3    House GOP Introduces Keep Terrorists Out of Am...   \n",
       "4    '); //--> E-mail | Print | Comments | Request ...   \n",
       "..                                                 ...   \n",
       "921  10:30 pm last night police received a call abo...   \n",
       "922  WASHINGTON, D.C. (AP) — At a press conference ...   \n",
       "923  For full functionality of this site it is nece...   \n",
       "924  As we promised, Freedom Crossroads has just le...   \n",
       "925  On Sunday, ex-Rep. Michelle Bachmann spoke wit...   \n",
       "\n",
       "                                                images  \\\n",
       "0    [http://www.senate.gov/resources/images/usFlag...   \n",
       "1    [data:image/gif;base64,R0lGODlhAQABAAAAACH5BAE...   \n",
       "2          [http://pollingreport.com/images/logo3.gif]   \n",
       "3    [https://web.archive.org/web/20090514023215im_...   \n",
       "4    [https://web.archive.org/web/20061116002411im_...   \n",
       "..                                                 ...   \n",
       "921  [https://pranksocial.com/wp-content/uploads/20...   \n",
       "922  [https://web.archive.org/web/20170629142109im_...   \n",
       "923                              [data:image/x-icon;,]   \n",
       "924  [https://web.archive.org/web/20170625021133im_...   \n",
       "925  [https://web.archive.org/web/20170710041423im_...   \n",
       "\n",
       "                                               top_img keywords  \\\n",
       "0    http://www.senate.gov/resources/images/us_sen.ico       []   \n",
       "1    http://s3-origin-images.politico.com/news/0905...       []   \n",
       "2                                                            []   \n",
       "3    https://web.archive.org/web/20090514023215im_/...       []   \n",
       "4    https://web.archive.org/web/20061116002411im_/...       []   \n",
       "..                                                 ...      ...   \n",
       "921  https://channel24news.com/wp-content/uploads/2...       []   \n",
       "922  https://web.archive.org/web/20170629142109im_/...       []   \n",
       "923                                data:image/x-icon;,       []   \n",
       "924  https://web.archive.org/web/20170625021133im_/...       []   \n",
       "925  https://web.archive.org/web/20170710041423im_/...       []   \n",
       "\n",
       "                                               authors  \\\n",
       "0                                                   []   \n",
       "1                                    [Alexander Burns]   \n",
       "2                                                   []   \n",
       "3                                                   []   \n",
       "4                                     [Robert Lenzner]   \n",
       "..                                                 ...   \n",
       "921                                                 []   \n",
       "922  [Jimmy Rustling, Born At An Early Age, Jimmy R...   \n",
       "923                                                 []   \n",
       "924                                                 []   \n",
       "925                                                 []   \n",
       "\n",
       "                                        canonical_link  \\\n",
       "0                                                        \n",
       "1    https://www.politico.com/story/2009/05/trump-o...   \n",
       "2                                                        \n",
       "3                                                        \n",
       "4                                                        \n",
       "..                                                 ...   \n",
       "921  https://channel24news.com/2017/06/manager-kill...   \n",
       "922  https://web.archive.org/web/20170629142109/htt...   \n",
       "923                                                      \n",
       "924  https://web.archive.org/web/20170625021133/htt...   \n",
       "925  https://web.archive.org/web/20170710041423/htt...   \n",
       "\n",
       "                                                 title  \\\n",
       "0    U.S. Senate: U.S. Senate Roll Call Votes 111th...   \n",
       "1                      Trump on Prejean: Same as Obama   \n",
       "2                                Congress: Job Ratings   \n",
       "3    House GOP Introduces Keep Terrorists Out of Am...   \n",
       "4                    Is The End In Sight For Supermax?   \n",
       "..                                                 ...   \n",
       "921  Manager killed 10 employees at checkers on 183...   \n",
       "922  Paul Ryan: “Donald Trump Plans To Resign From ...   \n",
       "923                                                      \n",
       "924  BREAKING: The Democrat James Comey Has Been Ha...   \n",
       "925  Bachmann: “White People Have Suffered More In ...   \n",
       "\n",
       "                                             meta_data movies  publish_date  \\\n",
       "0    {'viewport': 'width=device-width, initial-scal...     []           NaN   \n",
       "1    {'article': {'opinion': 'false'}, 'og': {'titl...     []  1.242120e+09   \n",
       "2    {'GENERATOR': 'Microsoft FrontPage 5.0', 'Micr...     []           NaN   \n",
       "3                                                   {}     []           NaN   \n",
       "4    {'description': 'Americas most secure and most...     []  1.145052e+09   \n",
       "..                                                 ...    ...           ...   \n",
       "921  {'viewport': 'width=device-width, initial-scal...     []  1.498167e+09   \n",
       "922  {'viewport': 'width=device-width, initial-scal...     []  1.498617e+09   \n",
       "923  {'viewport': 'width=device-width,initial-scale...     []           NaN   \n",
       "924  {'viewport': 'width=device-width, initial-scal...     []  1.498078e+09   \n",
       "925  {'viewport': 'user-scalable=yes, width=device-...     []  1.499378e+09   \n",
       "\n",
       "                       source summary truth  \n",
       "0       http://www.senate.gov          real  \n",
       "1     http://www.politico.com          real  \n",
       "2    http://pollingreport.com          real  \n",
       "3     https://web.archive.org          real  \n",
       "4     https://web.archive.org          real  \n",
       "..                        ...     ...   ...  \n",
       "921  http://channel24news.com          fake  \n",
       "922   https://web.archive.org          fake  \n",
       "923      http://politicot.com          fake  \n",
       "924   https://web.archive.org          fake  \n",
       "925   https://web.archive.org          fake  \n",
       "\n",
       "[926 rows x 14 columns]"
      ]
     },
     "execution_count": 3,
     "metadata": {},
     "output_type": "execute_result"
    }
   ],
   "source": [
    "politifact_news = pd.read_json(StringIO(collect_news(root_dir + datasets[0])))\n",
    "politifact_news"
   ]
  },
  {
   "cell_type": "markdown",
   "metadata": {},
   "source": [
    "Our dataset consists of 926 rows, each representing one news article. We can also see that, although there are 14 columns representing various features of those articles, there is often missing data in most of them. For the purposes of this analysis, we will limit ourselves to 3 columns that probably carry the most information: *text*, *title* and *truth*. "
   ]
  },
  {
   "cell_type": "code",
   "execution_count": 4,
   "metadata": {},
   "outputs": [
    {
     "data": {
      "text/html": [
       "<div>\n",
       "<style scoped>\n",
       "    .dataframe tbody tr th:only-of-type {\n",
       "        vertical-align: middle;\n",
       "    }\n",
       "\n",
       "    .dataframe tbody tr th {\n",
       "        vertical-align: top;\n",
       "    }\n",
       "\n",
       "    .dataframe thead th {\n",
       "        text-align: right;\n",
       "    }\n",
       "</style>\n",
       "<table border=\"1\" class=\"dataframe\">\n",
       "  <thead>\n",
       "    <tr style=\"text-align: right;\">\n",
       "      <th></th>\n",
       "      <th>text</th>\n",
       "      <th>title</th>\n",
       "      <th>truth</th>\n",
       "    </tr>\n",
       "  </thead>\n",
       "  <tbody>\n",
       "    <tr>\n",
       "      <th>0</th>\n",
       "      <td>Roll Call Vote 111th Congress - 1st Session\\n\\...</td>\n",
       "      <td>U.S. Senate: U.S. Senate Roll Call Votes 111th...</td>\n",
       "      <td>real</td>\n",
       "    </tr>\n",
       "    <tr>\n",
       "      <th>1</th>\n",
       "      <td>Barack Obama ended up in the middle of an unli...</td>\n",
       "      <td>Trump on Prejean: Same as Obama</td>\n",
       "      <td>real</td>\n",
       "    </tr>\n",
       "    <tr>\n",
       "      <th>2</th>\n",
       "      <td>Follow @pollreport CONGRESS – Job Rating See a...</td>\n",
       "      <td>Congress: Job Ratings</td>\n",
       "      <td>real</td>\n",
       "    </tr>\n",
       "    <tr>\n",
       "      <th>3</th>\n",
       "      <td>House GOP Introduces Keep Terrorists Out of Am...</td>\n",
       "      <td>House GOP Introduces Keep Terrorists Out of Am...</td>\n",
       "      <td>real</td>\n",
       "    </tr>\n",
       "    <tr>\n",
       "      <th>4</th>\n",
       "      <td>'); //--&gt; E-mail | Print | Comments | Request ...</td>\n",
       "      <td>Is The End In Sight For Supermax?</td>\n",
       "      <td>real</td>\n",
       "    </tr>\n",
       "    <tr>\n",
       "      <th>...</th>\n",
       "      <td>...</td>\n",
       "      <td>...</td>\n",
       "      <td>...</td>\n",
       "    </tr>\n",
       "    <tr>\n",
       "      <th>921</th>\n",
       "      <td>10:30 pm last night police received a call abo...</td>\n",
       "      <td>Manager killed 10 employees at checkers on 183...</td>\n",
       "      <td>fake</td>\n",
       "    </tr>\n",
       "    <tr>\n",
       "      <th>922</th>\n",
       "      <td>WASHINGTON, D.C. (AP) — At a press conference ...</td>\n",
       "      <td>Paul Ryan: “Donald Trump Plans To Resign From ...</td>\n",
       "      <td>fake</td>\n",
       "    </tr>\n",
       "    <tr>\n",
       "      <th>923</th>\n",
       "      <td>For full functionality of this site it is nece...</td>\n",
       "      <td></td>\n",
       "      <td>fake</td>\n",
       "    </tr>\n",
       "    <tr>\n",
       "      <th>924</th>\n",
       "      <td>As we promised, Freedom Crossroads has just le...</td>\n",
       "      <td>BREAKING: The Democrat James Comey Has Been Ha...</td>\n",
       "      <td>fake</td>\n",
       "    </tr>\n",
       "    <tr>\n",
       "      <th>925</th>\n",
       "      <td>On Sunday, ex-Rep. Michelle Bachmann spoke wit...</td>\n",
       "      <td>Bachmann: “White People Have Suffered More In ...</td>\n",
       "      <td>fake</td>\n",
       "    </tr>\n",
       "  </tbody>\n",
       "</table>\n",
       "<p>926 rows × 3 columns</p>\n",
       "</div>"
      ],
      "text/plain": [
       "                                                  text  \\\n",
       "0    Roll Call Vote 111th Congress - 1st Session\\n\\...   \n",
       "1    Barack Obama ended up in the middle of an unli...   \n",
       "2    Follow @pollreport CONGRESS – Job Rating See a...   \n",
       "3    House GOP Introduces Keep Terrorists Out of Am...   \n",
       "4    '); //--> E-mail | Print | Comments | Request ...   \n",
       "..                                                 ...   \n",
       "921  10:30 pm last night police received a call abo...   \n",
       "922  WASHINGTON, D.C. (AP) — At a press conference ...   \n",
       "923  For full functionality of this site it is nece...   \n",
       "924  As we promised, Freedom Crossroads has just le...   \n",
       "925  On Sunday, ex-Rep. Michelle Bachmann spoke wit...   \n",
       "\n",
       "                                                 title truth  \n",
       "0    U.S. Senate: U.S. Senate Roll Call Votes 111th...  real  \n",
       "1                      Trump on Prejean: Same as Obama  real  \n",
       "2                                Congress: Job Ratings  real  \n",
       "3    House GOP Introduces Keep Terrorists Out of Am...  real  \n",
       "4                    Is The End In Sight For Supermax?  real  \n",
       "..                                                 ...   ...  \n",
       "921  Manager killed 10 employees at checkers on 183...  fake  \n",
       "922  Paul Ryan: “Donald Trump Plans To Resign From ...  fake  \n",
       "923                                                     fake  \n",
       "924  BREAKING: The Democrat James Comey Has Been Ha...  fake  \n",
       "925  Bachmann: “White People Have Suffered More In ...  fake  \n",
       "\n",
       "[926 rows x 3 columns]"
      ]
     },
     "execution_count": 4,
     "metadata": {},
     "output_type": "execute_result"
    }
   ],
   "source": [
    "text_data = politifact_news[[\"text\", \"title\", \"truth\"]]\n",
    "del politifact_news # forget data so we don't run out of memory\n",
    "text_data"
   ]
  },
  {
   "cell_type": "markdown",
   "metadata": {},
   "source": [
    "The data is now much more dense than before and therefore much easier to analyise. As a first step in our analysis, we will take a look at the numbers of real and fake news articles."
   ]
  },
  {
   "cell_type": "code",
   "execution_count": 5,
   "metadata": {},
   "outputs": [
    {
     "data": {
      "text/plain": [
       "real    540\n",
       "fake    386\n",
       "Name: truth, dtype: int64"
      ]
     },
     "execution_count": 5,
     "metadata": {},
     "output_type": "execute_result"
    }
   ],
   "source": [
    "text_data['truth'].value_counts()"
   ]
  },
  {
   "cell_type": "markdown",
   "metadata": {},
   "source": [
    "We can see that there are slightly more real articles than fake ones, but the numbers are still roughly comparable. We should keep this in mind when interpreting the results of later analysis. Because our dataset is structured so that real articles always come before fake ones, we can now also set a boundary constant that indicates where the split occures in our dataset. This will be useful later on."
   ]
  },
  {
   "cell_type": "code",
   "execution_count": 6,
   "metadata": {},
   "outputs": [],
   "source": [
    "boundary = 540"
   ]
  },
  {
   "cell_type": "markdown",
   "metadata": {},
   "source": [
    "Before we can actually analyze our text data, we will need to clean it, tokenize it (split it into individual words or tokens), lemmatize it and finally transform it into a numerical format suitable for analysis. We start by defining a general tokenization and cleaning function, which we then apply on the text fields of our data. We will be using parallel implementations of certain pandas functions to speed everything up by utilizing multiple CPU cores. "
   ]
  },
  {
   "cell_type": "code",
   "execution_count": 7,
   "metadata": {},
   "outputs": [],
   "source": [
    "def tokenize_clean(data, fields, tokenizer=None):\n",
    "    punctuation = set('!\"$%&\\'’()*+,-./:;<=>?[\\\\]^_`{|}~•@#—–‘')\n",
    "    punctuation.add(\"``\")\n",
    "    punctuation.add(\"''\")\n",
    "    punctuation.add(\"--\")\n",
    "    punctuation.add(\"”\")\n",
    "    punctuation.add(\"“\")\n",
    "    # \"...\" also appears but carries semantic meaning so we leave it in\n",
    "\n",
    "    data = data.apply(lambda x: x.astype(str).str.lower())\n",
    "    data[fields] = data[fields].parallel_applymap(\n",
    "        lambda x: re.sub(r\"http\\S+\", \"\", x)) # remove links\n",
    "    if tokenizer:\n",
    "        data[fields] = data[fields].parallel_applymap(tokenizer.tokenize)\n",
    "        print(\"Using tokenizer: {}\".format(tokenizer))\n",
    "    else:   # use defualt tokenizer\n",
    "        data[fields] = data[fields].parallel_applymap(word_tokenize)\n",
    "        print(\"Using default tokenizer\")\n",
    "    data[fields] = data[fields].parallel_applymap(set)\n",
    "    data[fields] = data[fields].parallel_applymap(\n",
    "        lambda x: x - set(stopwords.words('english')))\n",
    "    data[fields] = data[fields].parallel_applymap(lambda x: x - punctuation)\n",
    "    return data\n"
   ]
  },
  {
   "cell_type": "code",
   "execution_count": 8,
   "metadata": {},
   "outputs": [
    {
     "name": "stdout",
     "output_type": "stream",
     "text": [
      "Using default tokenizer\n"
     ]
    },
    {
     "data": {
      "text/html": [
       "<div>\n",
       "<style scoped>\n",
       "    .dataframe tbody tr th:only-of-type {\n",
       "        vertical-align: middle;\n",
       "    }\n",
       "\n",
       "    .dataframe tbody tr th {\n",
       "        vertical-align: top;\n",
       "    }\n",
       "\n",
       "    .dataframe thead th {\n",
       "        text-align: right;\n",
       "    }\n",
       "</style>\n",
       "<table border=\"1\" class=\"dataframe\">\n",
       "  <thead>\n",
       "    <tr style=\"text-align: right;\">\n",
       "      <th></th>\n",
       "      <th>text</th>\n",
       "      <th>title</th>\n",
       "      <th>truth</th>\n",
       "    </tr>\n",
       "  </thead>\n",
       "  <tbody>\n",
       "    <tr>\n",
       "      <th>0</th>\n",
       "      <td>{byrd, dodd, webb, alphabetical, r-ut, senator...</td>\n",
       "      <td>{u.s., congress, 111th, senate, call, votes, r...</td>\n",
       "      <td>real</td>\n",
       "    </tr>\n",
       "    <tr>\n",
       "      <th>1</th>\n",
       "      <td>{controversy, state, politico, round, miss, st...</td>\n",
       "      <td>{obama, prejean, trump}</td>\n",
       "      <td>real</td>\n",
       "    </tr>\n",
       "    <tr>\n",
       "      <th>2</th>\n",
       "      <td>{-38, 12/7-9/14, 10/5-8/06, 14, 70, 7/27-28/10...</td>\n",
       "      <td>{job, ratings, congress}</td>\n",
       "      <td>real</td>\n",
       "    </tr>\n",
       "    <tr>\n",
       "      <th>3</th>\n",
       "      <td>{straightforward, releasing, must, bay, terror...</td>\n",
       "      <td>{america, act, introduces, house, keep, gop, t...</td>\n",
       "      <td>real</td>\n",
       "    </tr>\n",
       "    <tr>\n",
       "      <th>4</th>\n",
       "      <td>{unabomber, available, bars, maximum, 21, hous...</td>\n",
       "      <td>{sight, end, supermax}</td>\n",
       "      <td>real</td>\n",
       "    </tr>\n",
       "    <tr>\n",
       "      <th>...</th>\n",
       "      <td>...</td>\n",
       "      <td>...</td>\n",
       "      <td>...</td>\n",
       "    </tr>\n",
       "    <tr>\n",
       "      <th>921</th>\n",
       "      <td>{supplies, gun, night, employees, last, garden...</td>\n",
       "      <td>{manager, employees, 10, killed, 27ave, checke...</td>\n",
       "      <td>fake</td>\n",
       "    </tr>\n",
       "    <tr>\n",
       "      <th>922</th>\n",
       "      <td>{d.c., addition, dragged, pence, speaker, sad,...</td>\n",
       "      <td>{plans, 30, next, paul, trump, within, days, r...</td>\n",
       "      <td>fake</td>\n",
       "    </tr>\n",
       "    <tr>\n",
       "      <th>923</th>\n",
       "      <td>{web, site, enable, browser, necessary, functi...</td>\n",
       "      <td>{}</td>\n",
       "      <td>fake</td>\n",
       "    </tr>\n",
       "    <tr>\n",
       "      <th>924</th>\n",
       "      <td>{sad, rest, put, trump…, girlfriend, reason, m...</td>\n",
       "      <td>{affair, revealed, breaking, details, james, d...</td>\n",
       "      <td>fake</td>\n",
       "    </tr>\n",
       "    <tr>\n",
       "      <th>925</th>\n",
       "      <td>{hindu, does., must, seriously, terrorist, cal...</td>\n",
       "      <td>{bachmann, years, 8, suffered, last, couple, b...</td>\n",
       "      <td>fake</td>\n",
       "    </tr>\n",
       "  </tbody>\n",
       "</table>\n",
       "<p>926 rows × 3 columns</p>\n",
       "</div>"
      ],
      "text/plain": [
       "                                                  text  \\\n",
       "0    {byrd, dodd, webb, alphabetical, r-ut, senator...   \n",
       "1    {controversy, state, politico, round, miss, st...   \n",
       "2    {-38, 12/7-9/14, 10/5-8/06, 14, 70, 7/27-28/10...   \n",
       "3    {straightforward, releasing, must, bay, terror...   \n",
       "4    {unabomber, available, bars, maximum, 21, hous...   \n",
       "..                                                 ...   \n",
       "921  {supplies, gun, night, employees, last, garden...   \n",
       "922  {d.c., addition, dragged, pence, speaker, sad,...   \n",
       "923  {web, site, enable, browser, necessary, functi...   \n",
       "924  {sad, rest, put, trump…, girlfriend, reason, m...   \n",
       "925  {hindu, does., must, seriously, terrorist, cal...   \n",
       "\n",
       "                                                 title truth  \n",
       "0    {u.s., congress, 111th, senate, call, votes, r...  real  \n",
       "1                              {obama, prejean, trump}  real  \n",
       "2                             {job, ratings, congress}  real  \n",
       "3    {america, act, introduces, house, keep, gop, t...  real  \n",
       "4                               {sight, end, supermax}  real  \n",
       "..                                                 ...   ...  \n",
       "921  {manager, employees, 10, killed, 27ave, checke...  fake  \n",
       "922  {plans, 30, next, paul, trump, within, days, r...  fake  \n",
       "923                                                 {}  fake  \n",
       "924  {affair, revealed, breaking, details, james, d...  fake  \n",
       "925  {bachmann, years, 8, suffered, last, couple, b...  fake  \n",
       "\n",
       "[926 rows x 3 columns]"
      ]
     },
     "execution_count": 8,
     "metadata": {},
     "output_type": "execute_result"
    }
   ],
   "source": [
    "text_data = tokenize_clean(text_data, [\"text\", \"title\"])\n",
    "text_data"
   ]
  },
  {
   "cell_type": "markdown",
   "metadata": {},
   "source": [
    "We can see that the textual fields are now nicely split into into individual tokens. We also notice that at least one of the titles is now empty. This is probably because that title contained only stopwords, which were removed during cleaning. Our next step is defining a general stemming and lemmatization function and apply it to out data."
   ]
  },
  {
   "cell_type": "code",
   "execution_count": 9,
   "metadata": {},
   "outputs": [],
   "source": [
    "def stem_lemmatize(data, fields):\n",
    "    p_stemmer = PorterStemmer()\n",
    "    wordnet_lemmatizer = WordNetLemmatizer()\n",
    "    data[fields] = data[fields].parallel_applymap(\n",
    "        lambda x: list(map(lambda token: p_stemmer.stem(token), x)))\n",
    "    data[fields] = data[fields].parallel_applymap(\n",
    "        lambda x: list(map(lambda token: wordnet_lemmatizer.lemmatize(token), x)))\n",
    "    return data"
   ]
  },
  {
   "cell_type": "code",
   "execution_count": 10,
   "metadata": {},
   "outputs": [
    {
     "data": {
      "text/html": [
       "<div>\n",
       "<style scoped>\n",
       "    .dataframe tbody tr th:only-of-type {\n",
       "        vertical-align: middle;\n",
       "    }\n",
       "\n",
       "    .dataframe tbody tr th {\n",
       "        vertical-align: top;\n",
       "    }\n",
       "\n",
       "    .dataframe thead th {\n",
       "        text-align: right;\n",
       "    }\n",
       "</style>\n",
       "<table border=\"1\" class=\"dataframe\">\n",
       "  <thead>\n",
       "    <tr style=\"text-align: right;\">\n",
       "      <th></th>\n",
       "      <th>text</th>\n",
       "      <th>title</th>\n",
       "      <th>truth</th>\n",
       "    </tr>\n",
       "  </thead>\n",
       "  <tbody>\n",
       "    <tr>\n",
       "      <th>0</th>\n",
       "      <td>[byrd, dodd, webb, r-ut, alphabet, senat, ensi...</td>\n",
       "      <td>[u.s., congress, 111th, senat, call, vote, roll]</td>\n",
       "      <td>real</td>\n",
       "    </tr>\n",
       "    <tr>\n",
       "      <th>1</th>\n",
       "      <td>[controversi, state, politico, round, miss, st...</td>\n",
       "      <td>[obama, prejean, trump]</td>\n",
       "      <td>real</td>\n",
       "    </tr>\n",
       "    <tr>\n",
       "      <th>2</th>\n",
       "      <td>[-38, 12/7-9/14, 10/5-8/06, 14, 70, 7/27-28/10...</td>\n",
       "      <td>[job, rate, congress]</td>\n",
       "      <td>real</td>\n",
       "    </tr>\n",
       "    <tr>\n",
       "      <th>3</th>\n",
       "      <td>[straightforward, releas, must, bay, terrorist...</td>\n",
       "      <td>[america, act, introduc, hous, keep, gop, terr...</td>\n",
       "      <td>real</td>\n",
       "    </tr>\n",
       "    <tr>\n",
       "      <th>4</th>\n",
       "      <td>[unabomb, avail, bar, maximum, 21, hous, hybri...</td>\n",
       "      <td>[sight, end, supermax]</td>\n",
       "      <td>real</td>\n",
       "    </tr>\n",
       "    <tr>\n",
       "      <th>...</th>\n",
       "      <td>...</td>\n",
       "      <td>...</td>\n",
       "      <td>...</td>\n",
       "    </tr>\n",
       "    <tr>\n",
       "      <th>921</th>\n",
       "      <td>[suppli, gun, night, employe, gardens.manag, m...</td>\n",
       "      <td>[manag, employe, 10, kill, 27ave, checker, 183st]</td>\n",
       "      <td>fake</td>\n",
       "    </tr>\n",
       "    <tr>\n",
       "      <th>922</th>\n",
       "      <td>[d.c., addit, drag, penc, speaker, sad, suppor...</td>\n",
       "      <td>[plan, 30, next, paul, trump, within, day, rya...</td>\n",
       "      <td>fake</td>\n",
       "    </tr>\n",
       "    <tr>\n",
       "      <th>923</th>\n",
       "      <td>[web, site, enabl, browser, necessari, functio...</td>\n",
       "      <td>[]</td>\n",
       "      <td>fake</td>\n",
       "    </tr>\n",
       "    <tr>\n",
       "      <th>924</th>\n",
       "      <td>[sad, rest, put, trump…, girlfriend, reason, m...</td>\n",
       "      <td>[affair, reveal, break, detail, jame, democrat...</td>\n",
       "      <td>fake</td>\n",
       "    </tr>\n",
       "    <tr>\n",
       "      <th>925</th>\n",
       "      <td>[hindu, does., must, serious, terrorist, call,...</td>\n",
       "      <td>[bachmann, year, white, 8, suffer, peopl, coup...</td>\n",
       "      <td>fake</td>\n",
       "    </tr>\n",
       "  </tbody>\n",
       "</table>\n",
       "<p>926 rows × 3 columns</p>\n",
       "</div>"
      ],
      "text/plain": [
       "                                                  text  \\\n",
       "0    [byrd, dodd, webb, r-ut, alphabet, senat, ensi...   \n",
       "1    [controversi, state, politico, round, miss, st...   \n",
       "2    [-38, 12/7-9/14, 10/5-8/06, 14, 70, 7/27-28/10...   \n",
       "3    [straightforward, releas, must, bay, terrorist...   \n",
       "4    [unabomb, avail, bar, maximum, 21, hous, hybri...   \n",
       "..                                                 ...   \n",
       "921  [suppli, gun, night, employe, gardens.manag, m...   \n",
       "922  [d.c., addit, drag, penc, speaker, sad, suppor...   \n",
       "923  [web, site, enabl, browser, necessari, functio...   \n",
       "924  [sad, rest, put, trump…, girlfriend, reason, m...   \n",
       "925  [hindu, does., must, serious, terrorist, call,...   \n",
       "\n",
       "                                                 title truth  \n",
       "0     [u.s., congress, 111th, senat, call, vote, roll]  real  \n",
       "1                              [obama, prejean, trump]  real  \n",
       "2                                [job, rate, congress]  real  \n",
       "3    [america, act, introduc, hous, keep, gop, terr...  real  \n",
       "4                               [sight, end, supermax]  real  \n",
       "..                                                 ...   ...  \n",
       "921  [manag, employe, 10, kill, 27ave, checker, 183st]  fake  \n",
       "922  [plan, 30, next, paul, trump, within, day, rya...  fake  \n",
       "923                                                 []  fake  \n",
       "924  [affair, reveal, break, detail, jame, democrat...  fake  \n",
       "925  [bachmann, year, white, 8, suffer, peopl, coup...  fake  \n",
       "\n",
       "[926 rows x 3 columns]"
      ]
     },
     "execution_count": 10,
     "metadata": {},
     "output_type": "execute_result"
    }
   ],
   "source": [
    "text_data = stem_lemmatize(text_data, [\"text\", \"title\"])\n",
    "text_data"
   ]
  },
  {
   "cell_type": "markdown",
   "metadata": {},
   "source": [
    "The final step before we can start more serious analysis is transforming the dataset into a numerical matrix. Although there are many different ways to do this, we will start with the simplest one: we will construct a term-document matrix, where each row represents a document (in our case a news article) and each column represents a term (in our case a token). The matrix elements are the number of occurances of said token in said article. This can be simply done using scikit-learn's **CountVectorizer**. Because artices usually don't contain that many tokens (relative to the whole corpus vocabulary), the resulting matrix will be sparse. "
   ]
  },
  {
   "cell_type": "code",
   "execution_count": 11,
   "metadata": {},
   "outputs": [
    {
     "data": {
      "text/plain": [
       "<926x29509 sparse matrix of type '<class 'numpy.int64'>'\n",
       "\twith 221742 stored elements in Compressed Sparse Row format>"
      ]
     },
     "execution_count": 11,
     "metadata": {},
     "output_type": "execute_result"
    }
   ],
   "source": [
    "vectorizer = CountVectorizer(\n",
    "    lowercase=False,\n",
    "    preprocessor=lambda x: x,\n",
    "    stop_words=None,\n",
    "    tokenizer=lambda x: text_data[\"text\"][int(x)]\n",
    ")\n",
    "\n",
    "embedding = vectorizer.fit_transform([str(i) for i in range(len(text_data[\"text\"]))])\n",
    "embedding\n"
   ]
  },
  {
   "cell_type": "markdown",
   "metadata": {},
   "source": [
    "We can see that the resulting has 29510 columns, indicating we have that many unique tokens in our corpus. Now, we can use this matrix to calculate the number of occurances of individual tokens in the whole corpus. We write a general function that calculates the counts of all tokens that occur at least a certian threshold number of times."
   ]
  },
  {
   "cell_type": "code",
   "execution_count": 12,
   "metadata": {},
   "outputs": [],
   "source": [
    "def frequent_tokens(embedding, threshold=2):\n",
    "    counts = embedding.sum(axis=0)\n",
    "    tokens = pd.DataFrame(data=[(token, counts[0, i])\n",
    "            for token, i in vectorizer.vocabulary_.items() if (counts[0, i] >= threshold)], columns=['token', 'score'])\n",
    "    tokens.sort_values(by=['score'], inplace=True, ascending=False)\n",
    "    return tokens"
   ]
  },
  {
   "cell_type": "code",
   "execution_count": 13,
   "metadata": {},
   "outputs": [
    {
     "data": {
      "text/html": [
       "<div>\n",
       "<style scoped>\n",
       "    .dataframe tbody tr th:only-of-type {\n",
       "        vertical-align: middle;\n",
       "    }\n",
       "\n",
       "    .dataframe tbody tr th {\n",
       "        vertical-align: top;\n",
       "    }\n",
       "\n",
       "    .dataframe thead th {\n",
       "        text-align: right;\n",
       "    }\n",
       "</style>\n",
       "<table border=\"1\" class=\"dataframe\">\n",
       "  <thead>\n",
       "    <tr style=\"text-align: right;\">\n",
       "      <th></th>\n",
       "      <th>token</th>\n",
       "      <th>score</th>\n",
       "    </tr>\n",
       "  </thead>\n",
       "  <tbody>\n",
       "    <tr>\n",
       "      <th>793</th>\n",
       "      <td>say</td>\n",
       "      <td>594</td>\n",
       "    </tr>\n",
       "    <tr>\n",
       "      <th>504</th>\n",
       "      <td>work</td>\n",
       "      <td>587</td>\n",
       "    </tr>\n",
       "    <tr>\n",
       "      <th>117</th>\n",
       "      <td>state</td>\n",
       "      <td>571</td>\n",
       "    </tr>\n",
       "    <tr>\n",
       "      <th>448</th>\n",
       "      <td>make</td>\n",
       "      <td>553</td>\n",
       "    </tr>\n",
       "    <tr>\n",
       "      <th>529</th>\n",
       "      <td>use</td>\n",
       "      <td>541</td>\n",
       "    </tr>\n",
       "    <tr>\n",
       "      <th>...</th>\n",
       "      <td>...</td>\n",
       "      <td>...</td>\n",
       "    </tr>\n",
       "    <tr>\n",
       "      <th>7769</th>\n",
       "      <td>21:45:10</td>\n",
       "      <td>2</td>\n",
       "    </tr>\n",
       "    <tr>\n",
       "      <th>7770</th>\n",
       "      <td>dodd-</td>\n",
       "      <td>2</td>\n",
       "    </tr>\n",
       "    <tr>\n",
       "      <th>7772</th>\n",
       "      <td>22:23:51</td>\n",
       "      <td>2</td>\n",
       "    </tr>\n",
       "    <tr>\n",
       "      <th>7774</th>\n",
       "      <td>21:52:25</td>\n",
       "      <td>2</td>\n",
       "    </tr>\n",
       "    <tr>\n",
       "      <th>11187</th>\n",
       "      <td>masturb</td>\n",
       "      <td>2</td>\n",
       "    </tr>\n",
       "  </tbody>\n",
       "</table>\n",
       "<p>11188 rows × 2 columns</p>\n",
       "</div>"
      ],
      "text/plain": [
       "          token  score\n",
       "793         say    594\n",
       "504        work    587\n",
       "117       state    571\n",
       "448        make    553\n",
       "529         use    541\n",
       "...         ...    ...\n",
       "7769   21:45:10      2\n",
       "7770      dodd-      2\n",
       "7772   22:23:51      2\n",
       "7774   21:52:25      2\n",
       "11187   masturb      2\n",
       "\n",
       "[11188 rows x 2 columns]"
      ]
     },
     "execution_count": 13,
     "metadata": {},
     "output_type": "execute_result"
    }
   ],
   "source": [
    "tokens = frequent_tokens(embedding)\n",
    "tokens"
   ]
  },
  {
   "cell_type": "markdown",
   "metadata": {},
   "source": [
    "We see that most common tokens are general verbs like *say*, *make* and *use*, and they appear roughly 500 times in a corpus of 926 articles. From the total vocabulary of lmost 30k tokens, only around a third appear at least 2 times. This is an interesting observation that's in line with the theory, which states that word frequencies usually follow the Zipfian distribution. We can also plot the actual distribution and compare it to the Zipfian one."
   ]
  },
  {
   "cell_type": "code",
   "execution_count": 14,
   "metadata": {},
   "outputs": [
    {
     "data": {
      "text/plain": [
       "(0.0, 0.05)"
      ]
     },
     "execution_count": 14,
     "metadata": {},
     "output_type": "execute_result"
    },
    {
     "data": {
      "image/png": "[encoded data removed]",
      "text/plain": [
       "<Figure size 432x288 with 1 Axes>"
      ]
     },
     "metadata": {
      "needs_background": "light"
     },
     "output_type": "display_data"
    }
   ],
   "source": [
    "a = 3\n",
    "x = np.arange(10.0, 300.0)\n",
    "y = x**(-a) / special.zetac(a)\n",
    "count, bins, ignored = plt.hist(tokens['score'], bins=100, density=True)\n",
    "plt.plot(x, y/max(y), linewidth=2, color='r')\n",
    "ax = plt.gca()\n",
    "ax.set_xlim([0, 300])\n",
    "ax.set_ylim([0, 0.05])"
   ]
  },
  {
   "cell_type": "markdown",
   "metadata": {},
   "source": [
    "Now back to our matrix. Since we can't visualize it directly because of it's high dimensionality, we need to apply some dimensionality reduction techniques. One of the simplest ones is **Principal Component Analysis**, or **PCA** for short. We will use it to project our data from an almost 30k-dimensional vocabulary space into a 2-dimensional one, while preserving as much variance as possible."
   ]
  },
  {
   "cell_type": "code",
   "execution_count": 15,
   "metadata": {},
   "outputs": [
    {
     "data": {
      "text/plain": [
       "(926, 2)"
      ]
     },
     "execution_count": 15,
     "metadata": {},
     "output_type": "execute_result"
    }
   ],
   "source": [
    "pca = TruncatedSVD(n_components=2, random_state=random_state)\n",
    "projection = pca.fit_transform(embedding)\n",
    "projection.shape\n"
   ]
  },
  {
   "cell_type": "code",
   "execution_count": 16,
   "metadata": {},
   "outputs": [
    {
     "data": {
      "text/plain": [
       "<matplotlib.collections.PathCollection at 0x7f4c7d446a90>"
      ]
     },
     "execution_count": 16,
     "metadata": {},
     "output_type": "execute_result"
    },
    {
     "data": {
      "image/png": "[encoded data removed]",
      "text/plain": [
       "<Figure size 432x288 with 2 Axes>"
      ]
     },
     "metadata": {
      "needs_background": "light"
     },
     "output_type": "display_data"
    }
   ],
   "source": [
    "fig, (ax1, ax2) = plt.subplots(1, 2, sharex=True, sharey=True)\n",
    "ax1.scatter(projection[:boundary, 0], projection[:boundary, 1], c='green')\n",
    "ax2.scatter(projection[boundary:, 0], projection[boundary:, 1], c='red')"
   ]
  },
  {
   "cell_type": "markdown",
   "metadata": {},
   "source": [
    "If we plot the projections of real and fake articles, we see that there is a visible difference in their distributions. The real articles are also much more spread out, while the fake ones are more concentrated. "
   ]
  },
  {
   "cell_type": "code",
   "execution_count": 17,
   "metadata": {},
   "outputs": [
    {
     "data": {
      "text/plain": [
       "array([0.25643855, 0.01681916])"
      ]
     },
     "execution_count": 17,
     "metadata": {},
     "output_type": "execute_result"
    }
   ],
   "source": [
    "pca.explained_variance_ratio_"
   ]
  },
  {
   "cell_type": "markdown",
   "metadata": {},
   "source": [
    "If we look at the fraction of preserved variance, we can see that a quarter of all variance is already contained in the direction of the first principal component, which is a lot."
   ]
  },
  {
   "cell_type": "markdown",
   "metadata": {},
   "source": [
    "Next, we can take a closer look at the real articles in the upper right corner that are far away from the fake ones. "
   ]
  },
  {
   "cell_type": "code",
   "execution_count": 18,
   "metadata": {},
   "outputs": [
    {
     "data": {
      "text/html": [
       "<div>\n",
       "<style scoped>\n",
       "    .dataframe tbody tr th:only-of-type {\n",
       "        vertical-align: middle;\n",
       "    }\n",
       "\n",
       "    .dataframe tbody tr th {\n",
       "        vertical-align: top;\n",
       "    }\n",
       "\n",
       "    .dataframe thead th {\n",
       "        text-align: right;\n",
       "    }\n",
       "</style>\n",
       "<table border=\"1\" class=\"dataframe\">\n",
       "  <thead>\n",
       "    <tr style=\"text-align: right;\">\n",
       "      <th></th>\n",
       "      <th>text</th>\n",
       "      <th>title</th>\n",
       "      <th>truth</th>\n",
       "    </tr>\n",
       "  </thead>\n",
       "  <tbody>\n",
       "    <tr>\n",
       "      <th>59</th>\n",
       "      <td>[serious, inaud, colleg, hous, pursu, stabil, ...</td>\n",
       "      <td>[press, presid, associ, luncheon, remark]</td>\n",
       "      <td>real</td>\n",
       "    </tr>\n",
       "    <tr>\n",
       "      <th>98</th>\n",
       "      <td>[option, avail, inaud, amongst, colleg, hous, ...</td>\n",
       "      <td>[debat, go, mccain, head, obama, last]</td>\n",
       "      <td>real</td>\n",
       "    </tr>\n",
       "    <tr>\n",
       "      <th>109</th>\n",
       "      <td>[argu, nationalist, option, bystand, avail, co...</td>\n",
       "      <td>[debat, mccain, transcript, obama, second]</td>\n",
       "      <td>real</td>\n",
       "    </tr>\n",
       "    <tr>\n",
       "      <th>119</th>\n",
       "      <td>[bargain, avail, floor, colleg, hous, shorten,...</td>\n",
       "      <td>[il, presid, galesburg, economi, colleg, knox,...</td>\n",
       "      <td>real</td>\n",
       "    </tr>\n",
       "    <tr>\n",
       "      <th>120</th>\n",
       "      <td>[bargain, avail, floor, colleg, hous, shorten,...</td>\n",
       "      <td>[il, presid, galesburg, economi, colleg, knox,...</td>\n",
       "      <td>real</td>\n",
       "    </tr>\n",
       "    <tr>\n",
       "      <th>122</th>\n",
       "      <td>[option, avail, inaud, amongst, colleg, hous, ...</td>\n",
       "      <td>[debat, transcript, 2008, cpd]</td>\n",
       "      <td>real</td>\n",
       "    </tr>\n",
       "    <tr>\n",
       "      <th>139</th>\n",
       "      <td>[option, bargain, bottom, avail, colleg, pictu...</td>\n",
       "      <td>[hall, presid, twitter, town, remark]</td>\n",
       "      <td>real</td>\n",
       "    </tr>\n",
       "    <tr>\n",
       "      <th>181</th>\n",
       "      <td>[path, inaud, colleg, hous, pursu, design, bri...</td>\n",
       "      <td>[debat, 's, wednesday, transcript, presidenti]</td>\n",
       "      <td>real</td>\n",
       "    </tr>\n",
       "    <tr>\n",
       "      <th>182</th>\n",
       "      <td>[path, inaud, colleg, hous, pursu, design, bri...</td>\n",
       "      <td>[debat, 's, wednesday, transcript, presidenti]</td>\n",
       "      <td>real</td>\n",
       "    </tr>\n",
       "    <tr>\n",
       "      <th>187</th>\n",
       "      <td>[serious, caveat, inaud, 70, colleg, hous, dem...</td>\n",
       "      <td>[issu, presid, confer, hous, gop, remark]</td>\n",
       "      <td>real</td>\n",
       "    </tr>\n",
       "    <tr>\n",
       "      <th>290</th>\n",
       "      <td>[2024., argu, option, bargain, 14, inaud, 70, ...</td>\n",
       "      <td>[vice, transcript, debat, presidenti]</td>\n",
       "      <td>real</td>\n",
       "    </tr>\n",
       "    <tr>\n",
       "      <th>296</th>\n",
       "      <td>[option, item, path, serious, missil, inaud, t...</td>\n",
       "      <td>[debat, third, transcript, full, presidenti]</td>\n",
       "      <td>real</td>\n",
       "    </tr>\n",
       "    <tr>\n",
       "      <th>312</th>\n",
       "      <td>[return, option, serious, missil, colleg, hous...</td>\n",
       "      <td>[debat, presidenti, first]</td>\n",
       "      <td>real</td>\n",
       "    </tr>\n",
       "    <tr>\n",
       "      <th>341</th>\n",
       "      <td>[oppress, factori, unilater, command, avail, f...</td>\n",
       "      <td>[debat, cnn, texa, presidenti, democrat]</td>\n",
       "      <td>real</td>\n",
       "    </tr>\n",
       "    <tr>\n",
       "      <th>351</th>\n",
       "      <td>[option, avail, colleg, hous, noon, pursu, yel...</td>\n",
       "      <td>[hall, presid, cnbc, job, discus, town, remark]</td>\n",
       "      <td>real</td>\n",
       "    </tr>\n",
       "    <tr>\n",
       "      <th>357</th>\n",
       "      <td>[delawarean, option, author, donat, serious, a...</td>\n",
       "      <td>[]</td>\n",
       "      <td>real</td>\n",
       "    </tr>\n",
       "    <tr>\n",
       "      <th>451</th>\n",
       "      <td>[=a0_6np9\\a\\4ys+98nz_d, 0.3125, c2m, amd, 14, ...</td>\n",
       "      <td>[]</td>\n",
       "      <td>real</td>\n",
       "    </tr>\n",
       "  </tbody>\n",
       "</table>\n",
       "</div>"
      ],
      "text/plain": [
       "                                                  text  \\\n",
       "59   [serious, inaud, colleg, hous, pursu, stabil, ...   \n",
       "98   [option, avail, inaud, amongst, colleg, hous, ...   \n",
       "109  [argu, nationalist, option, bystand, avail, co...   \n",
       "119  [bargain, avail, floor, colleg, hous, shorten,...   \n",
       "120  [bargain, avail, floor, colleg, hous, shorten,...   \n",
       "122  [option, avail, inaud, amongst, colleg, hous, ...   \n",
       "139  [option, bargain, bottom, avail, colleg, pictu...   \n",
       "181  [path, inaud, colleg, hous, pursu, design, bri...   \n",
       "182  [path, inaud, colleg, hous, pursu, design, bri...   \n",
       "187  [serious, caveat, inaud, 70, colleg, hous, dem...   \n",
       "290  [2024., argu, option, bargain, 14, inaud, 70, ...   \n",
       "296  [option, item, path, serious, missil, inaud, t...   \n",
       "312  [return, option, serious, missil, colleg, hous...   \n",
       "341  [oppress, factori, unilater, command, avail, f...   \n",
       "351  [option, avail, colleg, hous, noon, pursu, yel...   \n",
       "357  [delawarean, option, author, donat, serious, a...   \n",
       "451  [=a0_6np9\\a\\4ys+98nz_d, 0.3125, c2m, amd, 14, ...   \n",
       "\n",
       "                                                 title truth  \n",
       "59           [press, presid, associ, luncheon, remark]  real  \n",
       "98              [debat, go, mccain, head, obama, last]  real  \n",
       "109         [debat, mccain, transcript, obama, second]  real  \n",
       "119  [il, presid, galesburg, economi, colleg, knox,...  real  \n",
       "120  [il, presid, galesburg, economi, colleg, knox,...  real  \n",
       "122                     [debat, transcript, 2008, cpd]  real  \n",
       "139              [hall, presid, twitter, town, remark]  real  \n",
       "181     [debat, 's, wednesday, transcript, presidenti]  real  \n",
       "182     [debat, 's, wednesday, transcript, presidenti]  real  \n",
       "187          [issu, presid, confer, hous, gop, remark]  real  \n",
       "290              [vice, transcript, debat, presidenti]  real  \n",
       "296       [debat, third, transcript, full, presidenti]  real  \n",
       "312                         [debat, presidenti, first]  real  \n",
       "341           [debat, cnn, texa, presidenti, democrat]  real  \n",
       "351    [hall, presid, cnbc, job, discus, town, remark]  real  \n",
       "357                                                 []  real  \n",
       "451                                                 []  real  "
      ]
     },
     "execution_count": 18,
     "metadata": {},
     "output_type": "execute_result"
    }
   ],
   "source": [
    "text_data.iloc[np.where(np.fromiter(map(lambda x: x[0]>30 and x[1]>5, projection), dtype=bool))[0]]"
   ]
  },
  {
   "cell_type": "markdown",
   "metadata": {},
   "source": [
    "One interesting fact we can notice is that most of the titles of these articles contain the word *transcript*. Although our projection was done on the text part of the articles and not on the titles, we can speculate that title tokens almost alway appear in the text as well. To look further into it, we can write a function that counts the frequency of a given token in real and fake article texts. "
   ]
  },
  {
   "cell_type": "code",
   "execution_count": 19,
   "metadata": {},
   "outputs": [],
   "source": [
    "def word_truths(text_data, word, normalize=False):\n",
    "    return text_data[text_data['text'].apply(\n",
    "        lambda x: word in x)]['truth'].value_counts(normalize=normalize)"
   ]
  },
  {
   "cell_type": "code",
   "execution_count": 20,
   "metadata": {},
   "outputs": [
    {
     "data": {
      "text/plain": [
       "real    52\n",
       "fake     3\n",
       "Name: truth, dtype: int64"
      ]
     },
     "execution_count": 20,
     "metadata": {},
     "output_type": "execute_result"
    }
   ],
   "source": [
    "word_truths(text_data, 'transcript')"
   ]
  },
  {
   "cell_type": "markdown",
   "metadata": {},
   "source": [
    "We can clearly see that the token *transcript* is very highly associated with real articles. To take this analysis even further, we can calculate the proportion of occurances in real articles for every token. "
   ]
  },
  {
   "cell_type": "code",
   "execution_count": 21,
   "metadata": {},
   "outputs": [
    {
     "data": {
      "text/html": [
       "<div>\n",
       "<style scoped>\n",
       "    .dataframe tbody tr th:only-of-type {\n",
       "        vertical-align: middle;\n",
       "    }\n",
       "\n",
       "    .dataframe tbody tr th {\n",
       "        vertical-align: top;\n",
       "    }\n",
       "\n",
       "    .dataframe thead th {\n",
       "        text-align: right;\n",
       "    }\n",
       "</style>\n",
       "<table border=\"1\" class=\"dataframe\">\n",
       "  <thead>\n",
       "    <tr style=\"text-align: right;\">\n",
       "      <th></th>\n",
       "      <th>token</th>\n",
       "      <th>score</th>\n",
       "      <th>real_pct</th>\n",
       "    </tr>\n",
       "  </thead>\n",
       "  <tbody>\n",
       "    <tr>\n",
       "      <th>6361</th>\n",
       "      <td>litmu</td>\n",
       "      <td>5</td>\n",
       "      <td>1.0</td>\n",
       "    </tr>\n",
       "    <tr>\n",
       "      <th>7996</th>\n",
       "      <td>admittedli</td>\n",
       "      <td>3</td>\n",
       "      <td>1.0</td>\n",
       "    </tr>\n",
       "    <tr>\n",
       "      <th>8002</th>\n",
       "      <td>preemptiv</td>\n",
       "      <td>3</td>\n",
       "      <td>1.0</td>\n",
       "    </tr>\n",
       "    <tr>\n",
       "      <th>3705</th>\n",
       "      <td>shirley</td>\n",
       "      <td>3</td>\n",
       "      <td>1.0</td>\n",
       "    </tr>\n",
       "    <tr>\n",
       "      <th>9365</th>\n",
       "      <td>133</td>\n",
       "      <td>3</td>\n",
       "      <td>1.0</td>\n",
       "    </tr>\n",
       "    <tr>\n",
       "      <th>...</th>\n",
       "      <td>...</td>\n",
       "      <td>...</td>\n",
       "      <td>...</td>\n",
       "    </tr>\n",
       "    <tr>\n",
       "      <th>11116</th>\n",
       "      <td>officials.</td>\n",
       "      <td>2</td>\n",
       "      <td>NaN</td>\n",
       "    </tr>\n",
       "    <tr>\n",
       "      <th>10860</th>\n",
       "      <td>prowess</td>\n",
       "      <td>2</td>\n",
       "      <td>NaN</td>\n",
       "    </tr>\n",
       "    <tr>\n",
       "      <th>10861</th>\n",
       "      <td>bathtub</td>\n",
       "      <td>2</td>\n",
       "      <td>NaN</td>\n",
       "    </tr>\n",
       "    <tr>\n",
       "      <th>11156</th>\n",
       "      <td>hillbilli</td>\n",
       "      <td>2</td>\n",
       "      <td>NaN</td>\n",
       "    </tr>\n",
       "    <tr>\n",
       "      <th>11187</th>\n",
       "      <td>masturb</td>\n",
       "      <td>2</td>\n",
       "      <td>NaN</td>\n",
       "    </tr>\n",
       "  </tbody>\n",
       "</table>\n",
       "<p>11188 rows × 3 columns</p>\n",
       "</div>"
      ],
      "text/plain": [
       "            token  score  real_pct\n",
       "6361        litmu      5       1.0\n",
       "7996   admittedli      3       1.0\n",
       "8002    preemptiv      3       1.0\n",
       "3705      shirley      3       1.0\n",
       "9365          133      3       1.0\n",
       "...           ...    ...       ...\n",
       "11116  officials.      2       NaN\n",
       "10860     prowess      2       NaN\n",
       "10861     bathtub      2       NaN\n",
       "11156   hillbilli      2       NaN\n",
       "11187     masturb      2       NaN\n",
       "\n",
       "[11188 rows x 3 columns]"
      ]
     },
     "execution_count": 21,
     "metadata": {},
     "output_type": "execute_result"
    }
   ],
   "source": [
    "tokens['real_pct'] = tokens['token'].parallel_apply(lambda x: word_truths(\n",
    "    text_data, x, normalize=True))['real']\n",
    "tokens.sort_values(by='real_pct', ascending=False, inplace=True)\n",
    "tokens"
   ]
  },
  {
   "cell_type": "markdown",
   "metadata": {},
   "source": [
    "We see that although some tokens do oappear exclusively in real or fake articles, their overall frequencies are all very low. The usefulness of the token *transcript* is higher especially because it appears much more often in general, yet is still almost exclusively assosiated with real articles. "
   ]
  },
  {
   "cell_type": "markdown",
   "metadata": {},
   "source": [
    "Let us return to our projection. We can see from the graphs that the projection looks like it could be reasonably well separated with a linear classifier. To test this, we train a linear SVM model on a part of our data and test it on another one. "
   ]
  },
  {
   "cell_type": "code",
   "execution_count": 22,
   "metadata": {},
   "outputs": [
    {
     "data": {
      "text/plain": [
       "0.7903225806451613"
      ]
     },
     "execution_count": 22,
     "metadata": {},
     "output_type": "execute_result"
    }
   ],
   "source": [
    "labels = np.array([1 if truth == \"real\" else 2 for truth in text_data['truth']])\n",
    "\n",
    "X_train, X_test, y_train, y_test = train_test_split(\n",
    "    projection, labels, test_size=0.2, random_state=random_state)\n",
    "svm_classifier = svm.SVC(kernel='linear')\n",
    "svm_classifier.fit(X_train, y_train)\n",
    "accuracy_score(y_test, svm_classifier.predict(X_test))"
   ]
  },
  {
   "cell_type": "markdown",
   "metadata": {},
   "source": [
    "We can see that the classifier achieves an almost 80% accuracy. To further help us visualize it's accuracy, we can plot it's decision boundary."
   ]
  },
  {
   "cell_type": "code",
   "execution_count": 23,
   "metadata": {},
   "outputs": [
    {
     "data": {
      "text/plain": [
       "[<matplotlib.lines.Line2D at 0x7f4c6ece3250>]"
      ]
     },
     "execution_count": 23,
     "metadata": {},
     "output_type": "execute_result"
    },
    {
     "data": {
      "image/png": "[encoded data removed]",
      "text/plain": [
       "<Figure size 432x288 with 2 Axes>"
      ]
     },
     "metadata": {
      "needs_background": "light"
     },
     "output_type": "display_data"
    }
   ],
   "source": [
    "w = svm_classifier.coef_[0]\n",
    "b = svm_classifier.intercept_[0]\n",
    "x_points = np.linspace(-1, 50)\n",
    "y_points = -(w[0] / w[1]) * x_points - b / w[1]  \n",
    "\n",
    "fig, (ax1, ax2) = plt.subplots(1, 2, sharex=True, sharey=True)\n",
    "ax1.scatter(projection[:boundary, 0], projection[:boundary, 1], c='green')\n",
    "ax2.scatter(projection[boundary:, 0], projection[boundary:, 1], c='red')\n",
    "ax1.plot(x_points, y_points, c='black')\n",
    "ax2.plot(x_points, y_points, c='black')"
   ]
  },
  {
   "cell_type": "markdown",
   "metadata": {},
   "source": [
    "The graphs confirm that our classifier works reasonably well. Most real articles are above the decision boundary and most fake ones are below. We can save this clissifier to use it later on."
   ]
  },
  {
   "cell_type": "code",
   "execution_count": 24,
   "metadata": {},
   "outputs": [
    {
     "data": {
      "text/plain": [
       "['models/svm_news_pca.joblib']"
      ]
     },
     "execution_count": 24,
     "metadata": {},
     "output_type": "execute_result"
    }
   ],
   "source": [
    "dump(svm_classifier, 'models/svm_news_pca.joblib')"
   ]
  },
  {
   "cell_type": "markdown",
   "metadata": {},
   "source": [
    "As we mentioned earlier, PCA is not the only dimensionality reduction technique we know. Let us try another, more advanced technique, called **t-distributed stochastic neighbor embedding** (or **t-SNE** for short). Because this is a very computationally heavy tecnhique, it is often impractical to use it directly on a high-dimensional dataset. Instead, we first project our data with PCA down to 50 components, and then apply TSNE to that."
   ]
  },
  {
   "cell_type": "code",
   "execution_count": 25,
   "metadata": {},
   "outputs": [
    {
     "data": {
      "text/plain": [
       "(926, 2)"
      ]
     },
     "execution_count": 25,
     "metadata": {},
     "output_type": "execute_result"
    }
   ],
   "source": [
    "intermediate_pca = TruncatedSVD(n_components=50, random_state=random_state)\n",
    "tsne = TSNE(n_components=2, learning_rate='auto',\n",
    "            init='random', random_state=random_state)\n",
    "\n",
    "intermediate_matrix = intermediate_pca.fit_transform(embedding)\n",
    "projection = tsne.fit_transform(intermediate_matrix)\n",
    "projection.shape"
   ]
  },
  {
   "cell_type": "code",
   "execution_count": 26,
   "metadata": {},
   "outputs": [
    {
     "data": {
      "text/plain": [
       "<matplotlib.collections.PathCollection at 0x7f4c7ec37760>"
      ]
     },
     "execution_count": 26,
     "metadata": {},
     "output_type": "execute_result"
    },
    {
     "data": {
      "image/png": "[encoded data removed]",
      "text/plain": [
       "<Figure size 432x288 with 2 Axes>"
      ]
     },
     "metadata": {
      "needs_background": "light"
     },
     "output_type": "display_data"
    }
   ],
   "source": [
    "fig, (ax1, ax2) = plt.subplots(1, 2, sharex=True, sharey=True)\n",
    "ax1.scatter(projection[:boundary, 0], projection[:boundary, 1], c='green')\n",
    "ax2.scatter(projection[boundary:, 0], projection[boundary:, 1], c='red')\n"
   ]
  },
  {
   "cell_type": "markdown",
   "metadata": {},
   "source": [
    "We see that t-SNE gives a very different projection than PCA, but unfortunately, it doesn't look as linearly separable as the PCA one. We can still try to train a linear SVM classifier on it, but don't expect good results."
   ]
  },
  {
   "cell_type": "code",
   "execution_count": 27,
   "metadata": {},
   "outputs": [
    {
     "data": {
      "text/plain": [
       "0.6129032258064516"
      ]
     },
     "execution_count": 27,
     "metadata": {},
     "output_type": "execute_result"
    }
   ],
   "source": [
    "X_train, X_test, y_train, y_test = train_test_split(\n",
    "    projection, labels, test_size=0.2, random_state=random_state)\n",
    "svm_classifier = svm.SVC(kernel='linear')\n",
    "svm_classifier.fit(X_train, y_train)\n",
    "accuracy_score(y_test, svm_classifier.predict(X_test))"
   ]
  },
  {
   "cell_type": "code",
   "execution_count": 28,
   "metadata": {},
   "outputs": [
    {
     "data": {
      "text/plain": [
       "[<matplotlib.lines.Line2D at 0x7f4c7e847f40>]"
      ]
     },
     "execution_count": 28,
     "metadata": {},
     "output_type": "execute_result"
    },
    {
     "data": {
      "image/png": "[encoded data removed]",
      "text/plain": [
       "<Figure size 432x288 with 2 Axes>"
      ]
     },
     "metadata": {
      "needs_background": "light"
     },
     "output_type": "display_data"
    }
   ],
   "source": [
    "w = svm_classifier.coef_[0]\n",
    "b = svm_classifier.intercept_[0]\n",
    "x_points = np.linspace(-40, 40)\n",
    "y_points = -(w[0] / w[1]) * x_points - b / w[1]\n",
    "\n",
    "fig, (ax1, ax2) = plt.subplots(1, 2, sharex=True, sharey=True)\n",
    "ax1.scatter(projection[:boundary, 0], projection[:boundary, 1], c='green')\n",
    "ax2.scatter(projection[boundary:, 0], projection[boundary:, 1], c='red')\n",
    "ax1.plot(x_points, y_points, c='black')\n",
    "ax2.plot(x_points, y_points, c='black')"
   ]
  },
  {
   "cell_type": "markdown",
   "metadata": {},
   "source": [
    "Indeed, SVM preforms really badly in this case and doesn't find a meaningful decision boundary. "
   ]
  },
  {
   "cell_type": "markdown",
   "metadata": {},
   "source": [
    "We have now tried a SVM predictive model on two different projections of our term-document matrix. What about using SVM on the full matrix itself? Although we can't visualize it in any meaningful way, we can still train the model on it."
   ]
  },
  {
   "cell_type": "code",
   "execution_count": 29,
   "metadata": {},
   "outputs": [
    {
     "data": {
      "text/plain": [
       "0.7419354838709677"
      ]
     },
     "execution_count": 29,
     "metadata": {},
     "output_type": "execute_result"
    }
   ],
   "source": [
    "X_train, X_test, y_train, y_test = train_test_split(\n",
    "    embedding, labels, test_size=0.2, random_state=random_state)\n",
    "\n",
    "svm_classifier = svm.SVC(kernel='linear')\n",
    "svm_classifier.fit(X_train, y_train)\n",
    "accuracy_score(y_test, svm_classifier.predict(X_test))"
   ]
  },
  {
   "cell_type": "markdown",
   "metadata": {},
   "source": [
    "A linear SVM on the whole matrix achieves worse results than on the PCA projection, which is surprising. We can also try a SVM with a nonlinear kernel, like a radial basis function one."
   ]
  },
  {
   "cell_type": "code",
   "execution_count": 30,
   "metadata": {},
   "outputs": [
    {
     "data": {
      "text/plain": [
       "0.8279569892473119"
      ]
     },
     "execution_count": 30,
     "metadata": {},
     "output_type": "execute_result"
    }
   ],
   "source": [
    "svm_classifier = svm.SVC(kernel='rbf')\n",
    "svm_classifier.fit(X_train, y_train)\n",
    "accuracy_score(y_test, svm_classifier.predict(X_test))"
   ]
  },
  {
   "cell_type": "markdown",
   "metadata": {},
   "source": [
    "The nonlinear SVM trained on the original matrix performs only slightly better than the linear one on the PCA projection, while being more complicated and impossible to visualize. If we wanted a simple, explainable predictive model, we could use the linear one on PCA, while knowing that we won't sacrifice a lot of performance. "
   ]
  },
  {
   "cell_type": "code",
   "execution_count": 31,
   "metadata": {},
   "outputs": [
    {
     "data": {
      "text/plain": [
       "['models/svm_news_original.joblib']"
      ]
     },
     "execution_count": 31,
     "metadata": {},
     "output_type": "execute_result"
    }
   ],
   "source": [
    "dump(svm_classifier, 'models/svm_news_original.joblib')"
   ]
  },
  {
   "cell_type": "markdown",
   "metadata": {},
   "source": [
    "Our next step is to try a different form of vectoriztion (transformation from text into a numerical matrix). The TF-IDF approach is another well known way of doing this. Instead of just counting term frequencies in specific documents, we also account for the number of documents that this term appears in. This way, we correct for terms that appear frequently in all documents and terms that rarely appear anywhere."
   ]
  },
  {
   "cell_type": "code",
   "execution_count": 32,
   "metadata": {},
   "outputs": [
    {
     "data": {
      "text/plain": [
       "<926x29509 sparse matrix of type '<class 'numpy.float64'>'\n",
       "\twith 221742 stored elements in Compressed Sparse Row format>"
      ]
     },
     "execution_count": 32,
     "metadata": {},
     "output_type": "execute_result"
    }
   ],
   "source": [
    "tf_idf_transformer = TfidfTransformer()\n",
    "embedding = tf_idf_transformer.fit_transform(embedding)\n",
    "embedding"
   ]
  },
  {
   "cell_type": "code",
   "execution_count": 33,
   "metadata": {},
   "outputs": [
    {
     "data": {
      "text/html": [
       "<div>\n",
       "<style scoped>\n",
       "    .dataframe tbody tr th:only-of-type {\n",
       "        vertical-align: middle;\n",
       "    }\n",
       "\n",
       "    .dataframe tbody tr th {\n",
       "        vertical-align: top;\n",
       "    }\n",
       "\n",
       "    .dataframe thead th {\n",
       "        text-align: right;\n",
       "    }\n",
       "</style>\n",
       "<table border=\"1\" class=\"dataframe\">\n",
       "  <thead>\n",
       "    <tr style=\"text-align: right;\">\n",
       "      <th></th>\n",
       "      <th>token</th>\n",
       "      <th>score</th>\n",
       "    </tr>\n",
       "  </thead>\n",
       "  <tbody>\n",
       "    <tr>\n",
       "      <th>500</th>\n",
       "      <td>use</td>\n",
       "      <td>17.493722</td>\n",
       "    </tr>\n",
       "    <tr>\n",
       "      <th>766</th>\n",
       "      <td>say</td>\n",
       "      <td>15.115030</td>\n",
       "    </tr>\n",
       "    <tr>\n",
       "      <th>117</th>\n",
       "      <td>state</td>\n",
       "      <td>14.843798</td>\n",
       "    </tr>\n",
       "    <tr>\n",
       "      <th>129</th>\n",
       "      <td>help</td>\n",
       "      <td>14.018088</td>\n",
       "    </tr>\n",
       "    <tr>\n",
       "      <th>424</th>\n",
       "      <td>support</td>\n",
       "      <td>13.808812</td>\n",
       "    </tr>\n",
       "    <tr>\n",
       "      <th>...</th>\n",
       "      <td>...</td>\n",
       "      <td>...</td>\n",
       "    </tr>\n",
       "    <tr>\n",
       "      <th>8163</th>\n",
       "      <td>nm</td>\n",
       "      <td>0.100210</td>\n",
       "    </tr>\n",
       "    <tr>\n",
       "      <th>9520</th>\n",
       "      <td>nonreligi</td>\n",
       "      <td>0.100151</td>\n",
       "    </tr>\n",
       "    <tr>\n",
       "      <th>5915</th>\n",
       "      <td>elitist</td>\n",
       "      <td>0.100086</td>\n",
       "    </tr>\n",
       "    <tr>\n",
       "      <th>6553</th>\n",
       "      <td>polish</td>\n",
       "      <td>0.100084</td>\n",
       "    </tr>\n",
       "    <tr>\n",
       "      <th>7187</th>\n",
       "      <td>abysm</td>\n",
       "      <td>0.100057</td>\n",
       "    </tr>\n",
       "  </tbody>\n",
       "</table>\n",
       "<p>12454 rows × 2 columns</p>\n",
       "</div>"
      ],
      "text/plain": [
       "          token      score\n",
       "500         use  17.493722\n",
       "766         say  15.115030\n",
       "117       state  14.843798\n",
       "129        help  14.018088\n",
       "424     support  13.808812\n",
       "...         ...        ...\n",
       "8163         nm   0.100210\n",
       "9520  nonreligi   0.100151\n",
       "5915    elitist   0.100086\n",
       "6553     polish   0.100084\n",
       "7187      abysm   0.100057\n",
       "\n",
       "[12454 rows x 2 columns]"
      ]
     },
     "execution_count": 33,
     "metadata": {},
     "output_type": "execute_result"
    }
   ],
   "source": [
    "words = frequent_tokens(embedding, threshold=0.1)\n",
    "words\n"
   ]
  },
  {
   "cell_type": "markdown",
   "metadata": {},
   "source": [
    "If we look at the tokens with highest TF-IDF scores, we see that they similar to the ones with highest frequencies in the term-document matrix, namely, they are all common verbs. "
   ]
  },
  {
   "cell_type": "markdown",
   "metadata": {},
   "source": [
    "For visualization, we again have to use dimensionality reduction."
   ]
  },
  {
   "cell_type": "code",
   "execution_count": 34,
   "metadata": {},
   "outputs": [
    {
     "data": {
      "text/plain": [
       "(926, 2)"
      ]
     },
     "execution_count": 34,
     "metadata": {},
     "output_type": "execute_result"
    }
   ],
   "source": [
    "pca = TruncatedSVD(n_components=2, random_state=random_state)\n",
    "projection = pca.fit_transform(embedding)\n",
    "projection.shape"
   ]
  },
  {
   "cell_type": "code",
   "execution_count": 35,
   "metadata": {},
   "outputs": [
    {
     "data": {
      "text/plain": [
       "<matplotlib.collections.PathCollection at 0x7f4c7eb392b0>"
      ]
     },
     "execution_count": 35,
     "metadata": {},
     "output_type": "execute_result"
    },
    {
     "data": {
      "image/png": "[encoded data removed]",
      "text/plain": [
       "<Figure size 432x288 with 2 Axes>"
      ]
     },
     "metadata": {
      "needs_background": "light"
     },
     "output_type": "display_data"
    }
   ],
   "source": [
    "fig, (ax1, ax2) = plt.subplots(1, 2, sharex=True, sharey=True)\n",
    "ax1.scatter(projection[:boundary, 0], projection[:boundary, 1], c='green')\n",
    "ax2.scatter(projection[boundary:, 0], projection[boundary:, 1], c='red')"
   ]
  },
  {
   "cell_type": "code",
   "execution_count": 36,
   "metadata": {},
   "outputs": [
    {
     "data": {
      "text/plain": [
       "array([0.02717995, 0.02205876])"
      ]
     },
     "execution_count": 36,
     "metadata": {},
     "output_type": "execute_result"
    }
   ],
   "source": [
    "pca.explained_variance_ratio_"
   ]
  },
  {
   "cell_type": "markdown",
   "metadata": {},
   "source": [
    "We see that a PCA projection down to 2 components is very interesting. Most datapoints seem to have a very low coordinate along the second component, withh one notable exception. The explained variance ratios are also quite low, probably because of the outlier as well. Let's take a closer look at it."
   ]
  },
  {
   "cell_type": "code",
   "execution_count": 37,
   "metadata": {},
   "outputs": [
    {
     "data": {
      "text/html": [
       "<div>\n",
       "<style scoped>\n",
       "    .dataframe tbody tr th:only-of-type {\n",
       "        vertical-align: middle;\n",
       "    }\n",
       "\n",
       "    .dataframe tbody tr th {\n",
       "        vertical-align: top;\n",
       "    }\n",
       "\n",
       "    .dataframe thead th {\n",
       "        text-align: right;\n",
       "    }\n",
       "</style>\n",
       "<table border=\"1\" class=\"dataframe\">\n",
       "  <thead>\n",
       "    <tr style=\"text-align: right;\">\n",
       "      <th></th>\n",
       "      <th>text</th>\n",
       "      <th>title</th>\n",
       "      <th>truth</th>\n",
       "    </tr>\n",
       "  </thead>\n",
       "  <tbody>\n",
       "    <tr>\n",
       "      <th>29</th>\n",
       "      <td>[need, cq, cqrollcall.com, 800, hotlin, contac...</td>\n",
       "      <td>[cq.com]</td>\n",
       "      <td>real</td>\n",
       "    </tr>\n",
       "    <tr>\n",
       "      <th>34</th>\n",
       "      <td>[need, cq, cqrollcall.com, 800, hotlin, contac...</td>\n",
       "      <td>[cq.com]</td>\n",
       "      <td>real</td>\n",
       "    </tr>\n",
       "    <tr>\n",
       "      <th>105</th>\n",
       "      <td>[need, cq, cqrollcall.com, 800, hotlin, contac...</td>\n",
       "      <td>[cq.com]</td>\n",
       "      <td>real</td>\n",
       "    </tr>\n",
       "    <tr>\n",
       "      <th>116</th>\n",
       "      <td>[need, cq, cqrollcall.com, 800, hotlin, contac...</td>\n",
       "      <td>[cq.com]</td>\n",
       "      <td>real</td>\n",
       "    </tr>\n",
       "    <tr>\n",
       "      <th>117</th>\n",
       "      <td>[need, cq, cqrollcall.com, 800, hotlin, contac...</td>\n",
       "      <td>[cq.com]</td>\n",
       "      <td>real</td>\n",
       "    </tr>\n",
       "    <tr>\n",
       "      <th>157</th>\n",
       "      <td>[need, cq, cqrollcall.com, 800, hotlin, contac...</td>\n",
       "      <td>[cq.com]</td>\n",
       "      <td>real</td>\n",
       "    </tr>\n",
       "    <tr>\n",
       "      <th>247</th>\n",
       "      <td>[need, cq, cqrollcall.com, 800, hotlin, contac...</td>\n",
       "      <td>[cq.com]</td>\n",
       "      <td>real</td>\n",
       "    </tr>\n",
       "    <tr>\n",
       "      <th>251</th>\n",
       "      <td>[need, cq, cqrollcall.com, 800, hotlin, contac...</td>\n",
       "      <td>[cq.com]</td>\n",
       "      <td>real</td>\n",
       "    </tr>\n",
       "    <tr>\n",
       "      <th>273</th>\n",
       "      <td>[need, cq, cqrollcall.com, 800, hotlin, contac...</td>\n",
       "      <td>[cq.com]</td>\n",
       "      <td>real</td>\n",
       "    </tr>\n",
       "    <tr>\n",
       "      <th>364</th>\n",
       "      <td>[need, cq, cqrollcall.com, 800, hotlin, contac...</td>\n",
       "      <td>[cq.com]</td>\n",
       "      <td>real</td>\n",
       "    </tr>\n",
       "    <tr>\n",
       "      <th>365</th>\n",
       "      <td>[need, cq, cqrollcall.com, 800, hotlin, contac...</td>\n",
       "      <td>[cq.com]</td>\n",
       "      <td>real</td>\n",
       "    </tr>\n",
       "    <tr>\n",
       "      <th>377</th>\n",
       "      <td>[need, cq, cqrollcall.com, 800, hotlin, contac...</td>\n",
       "      <td>[cq.com]</td>\n",
       "      <td>real</td>\n",
       "    </tr>\n",
       "    <tr>\n",
       "      <th>383</th>\n",
       "      <td>[need, cq, cqrollcall.com, 800, hotlin, contac...</td>\n",
       "      <td>[cq.com]</td>\n",
       "      <td>real</td>\n",
       "    </tr>\n",
       "    <tr>\n",
       "      <th>389</th>\n",
       "      <td>[need, cq, cqrollcall.com, 800, hotlin, contac...</td>\n",
       "      <td>[cq.com]</td>\n",
       "      <td>real</td>\n",
       "    </tr>\n",
       "    <tr>\n",
       "      <th>402</th>\n",
       "      <td>[need, cq, cqrollcall.com, 800, hotlin, contac...</td>\n",
       "      <td>[cq.com]</td>\n",
       "      <td>real</td>\n",
       "    </tr>\n",
       "    <tr>\n",
       "      <th>406</th>\n",
       "      <td>[need, cq, cqrollcall.com, 800, hotlin, contac...</td>\n",
       "      <td>[cq.com]</td>\n",
       "      <td>real</td>\n",
       "    </tr>\n",
       "    <tr>\n",
       "      <th>523</th>\n",
       "      <td>[need, cq, cqrollcall.com, 800, hotlin, contac...</td>\n",
       "      <td>[cq.com]</td>\n",
       "      <td>real</td>\n",
       "    </tr>\n",
       "  </tbody>\n",
       "</table>\n",
       "</div>"
      ],
      "text/plain": [
       "                                                  text     title truth\n",
       "29   [need, cq, cqrollcall.com, 800, hotlin, contac...  [cq.com]  real\n",
       "34   [need, cq, cqrollcall.com, 800, hotlin, contac...  [cq.com]  real\n",
       "105  [need, cq, cqrollcall.com, 800, hotlin, contac...  [cq.com]  real\n",
       "116  [need, cq, cqrollcall.com, 800, hotlin, contac...  [cq.com]  real\n",
       "117  [need, cq, cqrollcall.com, 800, hotlin, contac...  [cq.com]  real\n",
       "157  [need, cq, cqrollcall.com, 800, hotlin, contac...  [cq.com]  real\n",
       "247  [need, cq, cqrollcall.com, 800, hotlin, contac...  [cq.com]  real\n",
       "251  [need, cq, cqrollcall.com, 800, hotlin, contac...  [cq.com]  real\n",
       "273  [need, cq, cqrollcall.com, 800, hotlin, contac...  [cq.com]  real\n",
       "364  [need, cq, cqrollcall.com, 800, hotlin, contac...  [cq.com]  real\n",
       "365  [need, cq, cqrollcall.com, 800, hotlin, contac...  [cq.com]  real\n",
       "377  [need, cq, cqrollcall.com, 800, hotlin, contac...  [cq.com]  real\n",
       "383  [need, cq, cqrollcall.com, 800, hotlin, contac...  [cq.com]  real\n",
       "389  [need, cq, cqrollcall.com, 800, hotlin, contac...  [cq.com]  real\n",
       "402  [need, cq, cqrollcall.com, 800, hotlin, contac...  [cq.com]  real\n",
       "406  [need, cq, cqrollcall.com, 800, hotlin, contac...  [cq.com]  real\n",
       "523  [need, cq, cqrollcall.com, 800, hotlin, contac...  [cq.com]  real"
      ]
     },
     "execution_count": 37,
     "metadata": {},
     "output_type": "execute_result"
    }
   ],
   "source": [
    "idx = np.where(projection[:, 1] > 0.9)\n",
    "text_data.iloc[idx]"
   ]
  },
  {
   "cell_type": "markdown",
   "metadata": {},
   "source": [
    "It looks like it wasn't one outlier after all, but several copies of the same news article. They looks more like noise then meaningful articles. Let's see how the projeciton behaves if we remove them."
   ]
  },
  {
   "cell_type": "code",
   "execution_count": 38,
   "metadata": {},
   "outputs": [
    {
     "data": {
      "text/plain": [
       "<matplotlib.collections.PathCollection at 0x7f4c7e88cf10>"
      ]
     },
     "execution_count": 38,
     "metadata": {},
     "output_type": "execute_result"
    },
    {
     "data": {
      "image/png": "[encoded data removed]",
      "text/plain": [
       "<Figure size 432x288 with 2 Axes>"
      ]
     },
     "metadata": {
      "needs_background": "light"
     },
     "output_type": "display_data"
    }
   ],
   "source": [
    "mask = np.ones(embedding.shape[0], dtype=bool)\n",
    "mask[idx] = False\n",
    "pca = TruncatedSVD(n_components=2, random_state=random_state)\n",
    "limited_projection = pca.fit_transform(embedding[mask])\n",
    "\n",
    "fig, (ax1, ax2) = plt.subplots(1, 2, sharex=True, sharey=True)\n",
    "ax1.scatter(limited_projection[:boundary, 0], limited_projection[:boundary, 1], c='green')\n",
    "ax2.scatter(limited_projection[boundary:, 0], limited_projection[boundary:, 1], c='red')\n"
   ]
  },
  {
   "cell_type": "markdown",
   "metadata": {},
   "source": [
    "It looks like we have new outliers now. It seems that most important information is captured along the first principal component, but there are many outliers in different directions. Instead of focusing on them, let's take a closer look at the group of real articles that are clearly separated from the fake ones."
   ]
  },
  {
   "cell_type": "code",
   "execution_count": 39,
   "metadata": {},
   "outputs": [
    {
     "data": {
      "text/html": [
       "<div>\n",
       "<style scoped>\n",
       "    .dataframe tbody tr th:only-of-type {\n",
       "        vertical-align: middle;\n",
       "    }\n",
       "\n",
       "    .dataframe tbody tr th {\n",
       "        vertical-align: top;\n",
       "    }\n",
       "\n",
       "    .dataframe thead th {\n",
       "        text-align: right;\n",
       "    }\n",
       "</style>\n",
       "<table border=\"1\" class=\"dataframe\">\n",
       "  <thead>\n",
       "    <tr style=\"text-align: right;\">\n",
       "      <th></th>\n",
       "      <th>text</th>\n",
       "      <th>title</th>\n",
       "      <th>truth</th>\n",
       "    </tr>\n",
       "  </thead>\n",
       "  <tbody>\n",
       "    <tr>\n",
       "      <th>12</th>\n",
       "      <td>[factori, alongsid, appoint, 14, inaud, pure, ...</td>\n",
       "      <td>[brief, gm, 31, may, background, 2009, restruc...</td>\n",
       "      <td>real</td>\n",
       "    </tr>\n",
       "    <tr>\n",
       "      <th>14</th>\n",
       "      <td>[shop, round, find, digniti, grant, colleg, af...</td>\n",
       "      <td>[american, auto, presid, industri, resurg, rem...</td>\n",
       "      <td>real</td>\n",
       "    </tr>\n",
       "    <tr>\n",
       "      <th>16</th>\n",
       "      <td>[moral, inaud, 70, hous, wide, incred, moral, ...</td>\n",
       "      <td>[week, transcript, steel, kain, 'thi]</td>\n",
       "      <td>real</td>\n",
       "    </tr>\n",
       "    <tr>\n",
       "      <th>19</th>\n",
       "      <td>[item, 14, avail, 70, lever, hous, incred, bri...</td>\n",
       "      <td>[gate, week, hoyer, transcript, boehner, bill,...</td>\n",
       "      <td>real</td>\n",
       "    </tr>\n",
       "    <tr>\n",
       "      <th>33</th>\n",
       "      <td>[downstair, command, avail, daylight, hous, lo...</td>\n",
       "      <td>[biden, transcript, 'thi, week]</td>\n",
       "      <td>real</td>\n",
       "    </tr>\n",
       "    <tr>\n",
       "      <th>...</th>\n",
       "      <td>...</td>\n",
       "      <td>...</td>\n",
       "      <td>...</td>\n",
       "    </tr>\n",
       "    <tr>\n",
       "      <th>502</th>\n",
       "      <td>[oppress, option, pictur, hous, 1980, shelbi, ...</td>\n",
       "      <td>[week, transcript, holder, 'thi, giuliani]</td>\n",
       "      <td>real</td>\n",
       "    </tr>\n",
       "    <tr>\n",
       "      <th>519</th>\n",
       "      <td>[punish, oppress, serious, exhaust, avail, gor...</td>\n",
       "      <td>[transcript]</td>\n",
       "      <td>real</td>\n",
       "    </tr>\n",
       "    <tr>\n",
       "      <th>526</th>\n",
       "      <td>[argu, option, serious, inaud, 70, timelin, co...</td>\n",
       "      <td>[debat, cnn/youtub, part, transcript, presiden...</td>\n",
       "      <td>real</td>\n",
       "    </tr>\n",
       "    <tr>\n",
       "      <th>539</th>\n",
       "      <td>[avail, colleg, support, result, lobbi, luxuri...</td>\n",
       "      <td>[mark, halperin]</td>\n",
       "      <td>real</td>\n",
       "    </tr>\n",
       "    <tr>\n",
       "      <th>804</th>\n",
       "      <td>[bannon-ti, password, ing, timelin, colleg, pi...</td>\n",
       "      <td>[mueller, explain, hack, russia, center, inves...</td>\n",
       "      <td>fake</td>\n",
       "    </tr>\n",
       "  </tbody>\n",
       "</table>\n",
       "<p>92 rows × 3 columns</p>\n",
       "</div>"
      ],
      "text/plain": [
       "                                                  text  \\\n",
       "12   [factori, alongsid, appoint, 14, inaud, pure, ...   \n",
       "14   [shop, round, find, digniti, grant, colleg, af...   \n",
       "16   [moral, inaud, 70, hous, wide, incred, moral, ...   \n",
       "19   [item, 14, avail, 70, lever, hous, incred, bri...   \n",
       "33   [downstair, command, avail, daylight, hous, lo...   \n",
       "..                                                 ...   \n",
       "502  [oppress, option, pictur, hous, 1980, shelbi, ...   \n",
       "519  [punish, oppress, serious, exhaust, avail, gor...   \n",
       "526  [argu, option, serious, inaud, 70, timelin, co...   \n",
       "539  [avail, colleg, support, result, lobbi, luxuri...   \n",
       "804  [bannon-ti, password, ing, timelin, colleg, pi...   \n",
       "\n",
       "                                                 title truth  \n",
       "12   [brief, gm, 31, may, background, 2009, restruc...  real  \n",
       "14   [american, auto, presid, industri, resurg, rem...  real  \n",
       "16               [week, transcript, steel, kain, 'thi]  real  \n",
       "19   [gate, week, hoyer, transcript, boehner, bill,...  real  \n",
       "33                     [biden, transcript, 'thi, week]  real  \n",
       "..                                                 ...   ...  \n",
       "502         [week, transcript, holder, 'thi, giuliani]  real  \n",
       "519                                       [transcript]  real  \n",
       "526  [debat, cnn/youtub, part, transcript, presiden...  real  \n",
       "539                                   [mark, halperin]  real  \n",
       "804  [mueller, explain, hack, russia, center, inves...  fake  \n",
       "\n",
       "[92 rows x 3 columns]"
      ]
     },
     "execution_count": 39,
     "metadata": {},
     "output_type": "execute_result"
    }
   ],
   "source": [
    "text_data.iloc[np.where(projection[:, 0] > 0.4)]\n"
   ]
  },
  {
   "cell_type": "markdown",
   "metadata": {},
   "source": [
    "Unfortunately, there seems to be no clear signal here, as no single token really stands out. It is therefore likely that the first principal component is a linear combination of many different tokens. "
   ]
  },
  {
   "cell_type": "markdown",
   "metadata": {},
   "source": [
    "Although the projection doesn't seem very linearly separable, judging from the graph, we can still try a linear SVM classifier on it."
   ]
  },
  {
   "cell_type": "code",
   "execution_count": 40,
   "metadata": {},
   "outputs": [
    {
     "data": {
      "text/plain": [
       "0.6290322580645161"
      ]
     },
     "execution_count": 40,
     "metadata": {},
     "output_type": "execute_result"
    }
   ],
   "source": [
    "X_train, X_test, y_train, y_test = train_test_split(\n",
    "    projection, labels, test_size=0.2, random_state=random_state)\n",
    "svm_classifier = svm.SVC(kernel='linear')\n",
    "svm_classifier.fit(X_train, y_train)\n",
    "accuracy_score(y_test, svm_classifier.predict(X_test))"
   ]
  },
  {
   "cell_type": "code",
   "execution_count": 41,
   "metadata": {},
   "outputs": [
    {
     "data": {
      "text/plain": [
       "[<matplotlib.lines.Line2D at 0x7f4c7e7613d0>]"
      ]
     },
     "execution_count": 41,
     "metadata": {},
     "output_type": "execute_result"
    },
    {
     "data": {
      "image/png": "[encoded data removed]",
      "text/plain": [
       "<Figure size 432x288 with 2 Axes>"
      ]
     },
     "metadata": {
      "needs_background": "light"
     },
     "output_type": "display_data"
    }
   ],
   "source": [
    "w = svm_classifier.coef_[0]\n",
    "b = svm_classifier.intercept_[0]\n",
    "x_points = np.linspace(0, 0.7)\n",
    "y_points = -(w[0] / w[1]) * x_points - b / w[1]\n",
    "fig, (ax1, ax2) = plt.subplots(1, 2, sharex=True, sharey=True)\n",
    "ax1.scatter(projection[:boundary, 0], projection[:boundary, 1], c='green')\n",
    "ax2.scatter(projection[boundary:, 0], projection[boundary:, 1], c='red')\n",
    "ax1.plot(x_points, y_points, c='black')\n",
    "ax2.plot(x_points, y_points, c='black')\n"
   ]
  },
  {
   "cell_type": "markdown",
   "metadata": {},
   "source": [
    "The linear SVM achieves very poor performance. It classifies all articles as real and exploits the fact that the split between real and fake articles is not 50-50. We can perhaps achieve better performance by increasing the SVM parameter **C** and thus focusing more on reducing misclassification than on maximizing the margin."
   ]
  },
  {
   "cell_type": "code",
   "execution_count": 42,
   "metadata": {},
   "outputs": [
    {
     "data": {
      "text/plain": [
       "0.6021505376344086"
      ]
     },
     "execution_count": 42,
     "metadata": {},
     "output_type": "execute_result"
    }
   ],
   "source": [
    "svm_classifier = svm.SVC(C=100, kernel='linear')\n",
    "svm_classifier.fit(X_train, y_train)\n",
    "accuracy_score(y_test, svm_classifier.predict(X_test))\n"
   ]
  },
  {
   "cell_type": "code",
   "execution_count": 43,
   "metadata": {},
   "outputs": [
    {
     "data": {
      "text/plain": [
       "[<matplotlib.lines.Line2D at 0x7f4c7e9f1400>]"
      ]
     },
     "execution_count": 43,
     "metadata": {},
     "output_type": "execute_result"
    },
    {
     "data": {
      "image/png": "[encoded data removed]",
      "text/plain": [
       "<Figure size 432x288 with 2 Axes>"
      ]
     },
     "metadata": {
      "needs_background": "light"
     },
     "output_type": "display_data"
    }
   ],
   "source": [
    "w = svm_classifier.coef_[0]\n",
    "b = svm_classifier.intercept_[0]\n",
    "x_points = np.linspace(0, 0.7)\n",
    "y_points = -(w[0] / w[1]) * x_points - b / w[1]\n",
    "fig, (ax1, ax2) = plt.subplots(1, 2, sharex=True, sharey=True)\n",
    "ax1.scatter(projection[:boundary, 0], projection[:boundary, 1], c='green')\n",
    "ax2.scatter(projection[boundary:, 0], projection[boundary:, 1], c='red')\n",
    "ax1.plot(x_points, y_points, c='black')\n",
    "ax2.plot(x_points, y_points, c='black')"
   ]
  },
  {
   "cell_type": "markdown",
   "metadata": {},
   "source": [
    "We see that although the new classifier makes much more sense graphically, it's accuracy is actually worse than the previous \"naive\" one's. "
   ]
  },
  {
   "cell_type": "markdown",
   "metadata": {},
   "source": [
    "Let us also try the t-SNE projection to see how it compares to PCA."
   ]
  },
  {
   "cell_type": "code",
   "execution_count": 44,
   "metadata": {},
   "outputs": [
    {
     "data": {
      "text/plain": [
       "(926, 2)"
      ]
     },
     "execution_count": 44,
     "metadata": {},
     "output_type": "execute_result"
    }
   ],
   "source": [
    "intermediate_pca = TruncatedSVD(n_components=50, random_state=random_state)\n",
    "tsne = TSNE(n_components=2, learning_rate='auto',\n",
    "            init='random', random_state=random_state)\n",
    "\n",
    "intermediate_matrix = intermediate_pca.fit_transform(embedding)\n",
    "projection = tsne.fit_transform(intermediate_matrix)\n",
    "projection.shape"
   ]
  },
  {
   "cell_type": "code",
   "execution_count": 45,
   "metadata": {},
   "outputs": [
    {
     "data": {
      "text/plain": [
       "<matplotlib.collections.PathCollection at 0x7f4c6f731250>"
      ]
     },
     "execution_count": 45,
     "metadata": {},
     "output_type": "execute_result"
    },
    {
     "data": {
      "image/png": "[encoded data removed]",
      "text/plain": [
       "<Figure size 432x288 with 2 Axes>"
      ]
     },
     "metadata": {
      "needs_background": "light"
     },
     "output_type": "display_data"
    }
   ],
   "source": [
    "fig, (ax1, ax2) = plt.subplots(1, 2, sharex=True, sharey=True)\n",
    "ax1.scatter(projection[:boundary, 0], projection[:boundary, 1], c='green')\n",
    "ax2.scatter(projection[boundary:, 0], projection[boundary:, 1], c='red')\n"
   ]
  },
  {
   "cell_type": "markdown",
   "metadata": {},
   "source": [
    "Again, the projection is very different from the PCA one. it also doesn't look very linearly separable, so we won't even try to fit a SVM model here. We can however try a SVM on the original matrix itself. "
   ]
  },
  {
   "cell_type": "code",
   "execution_count": 46,
   "metadata": {},
   "outputs": [
    {
     "data": {
      "text/plain": [
       "0.8655913978494624"
      ]
     },
     "execution_count": 46,
     "metadata": {},
     "output_type": "execute_result"
    }
   ],
   "source": [
    "X_train, X_test, y_train, y_test = train_test_split(\n",
    "    embedding, labels, test_size=0.2, random_state=random_state)\n",
    "svm_classifier = svm.SVC(kernel='linear')\n",
    "svm_classifier.fit(X_train, y_train)\n",
    "accuracy_score(y_test, svm_classifier.predict(X_test))"
   ]
  },
  {
   "cell_type": "markdown",
   "metadata": {},
   "source": [
    "We see that we can achieve very good performance with a simple linear SVM on the TF-IDF matrix. Can we achieve get even better performance with a nonlinear kernel?"
   ]
  },
  {
   "cell_type": "code",
   "execution_count": 47,
   "metadata": {},
   "outputs": [
    {
     "data": {
      "text/plain": [
       "0.8655913978494624"
      ]
     },
     "execution_count": 47,
     "metadata": {},
     "output_type": "execute_result"
    }
   ],
   "source": [
    "svm_classifier = svm.SVC(kernel='rbf')\n",
    "svm_classifier.fit(X_train, y_train)\n",
    "accuracy_score(y_test, svm_classifier.predict(X_test))\n"
   ]
  },
  {
   "cell_type": "markdown",
   "metadata": {},
   "source": [
    "The accuracy of the nonlinear SVM is exactly the same as with a linear one. Although that could be a bug in our implementation, it could also just be the nature of this TF-IDF matrix. In any case, these models perform best so far.  "
   ]
  },
  {
   "cell_type": "code",
   "execution_count": 48,
   "metadata": {},
   "outputs": [
    {
     "data": {
      "text/plain": [
       "['models/svm_news_tfidf.joblib']"
      ]
     },
     "execution_count": 48,
     "metadata": {},
     "output_type": "execute_result"
    }
   ],
   "source": [
    "dump(svm_classifier, 'models/svm_news_tfidf.joblib')"
   ]
  },
  {
   "cell_type": "markdown",
   "metadata": {},
   "source": [
    "## Analyzing tweets\n",
    "\n",
    "Our analysis has so far been limited to new articles. However, our dataset also contains tweets about them. Let's analyze them as well.\n",
    "\n",
    "First, we load the tweets from our dataset to a Pandas DataFrame object for easier usage. We use a helper function ``collect_tweets`` that also adds a ``truth`` value to the tweet, depending on what kind of news it is talking about. Let's see how the tweets look like. "
   ]
  },
  {
   "cell_type": "code",
   "execution_count": 49,
   "metadata": {},
   "outputs": [
    {
     "data": {
      "text/html": [
       "<div>\n",
       "<style scoped>\n",
       "    .dataframe tbody tr th:only-of-type {\n",
       "        vertical-align: middle;\n",
       "    }\n",
       "\n",
       "    .dataframe tbody tr th {\n",
       "        vertical-align: top;\n",
       "    }\n",
       "\n",
       "    .dataframe thead th {\n",
       "        text-align: right;\n",
       "    }\n",
       "</style>\n",
       "<table border=\"1\" class=\"dataframe\">\n",
       "  <thead>\n",
       "    <tr style=\"text-align: right;\">\n",
       "      <th></th>\n",
       "      <th>author_id</th>\n",
       "      <th>conversation_id</th>\n",
       "      <th>created_at</th>\n",
       "      <th>entities</th>\n",
       "      <th>id</th>\n",
       "      <th>lang</th>\n",
       "      <th>source</th>\n",
       "      <th>text</th>\n",
       "      <th>truth</th>\n",
       "      <th>in_reply_to_user_id</th>\n",
       "      <th>referenced_tweets</th>\n",
       "      <th>attachments</th>\n",
       "      <th>geo</th>\n",
       "      <th>withheld</th>\n",
       "    </tr>\n",
       "  </thead>\n",
       "  <tbody>\n",
       "    <tr>\n",
       "      <th>0</th>\n",
       "      <td>32497478</td>\n",
       "      <td>133032062784503808</td>\n",
       "      <td>2011-11-06T04:04:50.000Z</td>\n",
       "      <td>{'annotations': [{'end': 5, 'normalized_text':...</td>\n",
       "      <td>133032062784503808</td>\n",
       "      <td>en</td>\n",
       "      <td>TweetDeck</td>\n",
       "      <td>Romney favored support of the federal assault ...</td>\n",
       "      <td>real</td>\n",
       "      <td>NaN</td>\n",
       "      <td>NaN</td>\n",
       "      <td>NaN</td>\n",
       "      <td>NaN</td>\n",
       "      <td>NaN</td>\n",
       "    </tr>\n",
       "    <tr>\n",
       "      <th>1</th>\n",
       "      <td>32497478</td>\n",
       "      <td>135231654175318017</td>\n",
       "      <td>2011-11-12T05:45:13.000Z</td>\n",
       "      <td>{'annotations': [{'end': 5, 'normalized_text':...</td>\n",
       "      <td>135231654175318017</td>\n",
       "      <td>en</td>\n",
       "      <td>TweetDeck</td>\n",
       "      <td>Romney favored support of the federal assault ...</td>\n",
       "      <td>real</td>\n",
       "      <td>NaN</td>\n",
       "      <td>NaN</td>\n",
       "      <td>NaN</td>\n",
       "      <td>NaN</td>\n",
       "      <td>NaN</td>\n",
       "    </tr>\n",
       "    <tr>\n",
       "      <th>2</th>\n",
       "      <td>2234711</td>\n",
       "      <td>138610074829594624</td>\n",
       "      <td>2011-11-21T13:29:51.000Z</td>\n",
       "      <td>{'annotations': [{'end': 96, 'normalized_text'...</td>\n",
       "      <td>138610074829594624</td>\n",
       "      <td>en</td>\n",
       "      <td>Silver Bird</td>\n",
       "      <td>#GOP #tcot RT @sjh2222: 2nd Amendment http://t...</td>\n",
       "      <td>real</td>\n",
       "      <td>NaN</td>\n",
       "      <td>NaN</td>\n",
       "      <td>NaN</td>\n",
       "      <td>NaN</td>\n",
       "      <td>NaN</td>\n",
       "    </tr>\n",
       "    <tr>\n",
       "      <th>3</th>\n",
       "      <td>32497478</td>\n",
       "      <td>139099903497469952</td>\n",
       "      <td>2011-11-22T21:56:16.000Z</td>\n",
       "      <td>{'annotations': [{'end': 5, 'normalized_text':...</td>\n",
       "      <td>139099903497469952</td>\n",
       "      <td>en</td>\n",
       "      <td>TweetDeck</td>\n",
       "      <td>Romney favored support of the federal assault ...</td>\n",
       "      <td>real</td>\n",
       "      <td>NaN</td>\n",
       "      <td>NaN</td>\n",
       "      <td>NaN</td>\n",
       "      <td>NaN</td>\n",
       "      <td>NaN</td>\n",
       "    </tr>\n",
       "    <tr>\n",
       "      <th>4</th>\n",
       "      <td>83949216</td>\n",
       "      <td>139102215238459392</td>\n",
       "      <td>2011-11-22T22:05:27.000Z</td>\n",
       "      <td>{'annotations': [{'end': 5, 'normalized_text':...</td>\n",
       "      <td>139102215238459392</td>\n",
       "      <td>en</td>\n",
       "      <td>TweetDeck</td>\n",
       "      <td>Romney favored support of the federal assault ...</td>\n",
       "      <td>real</td>\n",
       "      <td>NaN</td>\n",
       "      <td>NaN</td>\n",
       "      <td>NaN</td>\n",
       "      <td>NaN</td>\n",
       "      <td>NaN</td>\n",
       "    </tr>\n",
       "    <tr>\n",
       "      <th>...</th>\n",
       "      <td>...</td>\n",
       "      <td>...</td>\n",
       "      <td>...</td>\n",
       "      <td>...</td>\n",
       "      <td>...</td>\n",
       "      <td>...</td>\n",
       "      <td>...</td>\n",
       "      <td>...</td>\n",
       "      <td>...</td>\n",
       "      <td>...</td>\n",
       "      <td>...</td>\n",
       "      <td>...</td>\n",
       "      <td>...</td>\n",
       "      <td>...</td>\n",
       "    </tr>\n",
       "    <tr>\n",
       "      <th>419526</th>\n",
       "      <td>39882689</td>\n",
       "      <td>790399441127649280</td>\n",
       "      <td>2016-10-24T03:48:06.000Z</td>\n",
       "      <td>{'annotations': [{'end': 7, 'normalized_text':...</td>\n",
       "      <td>790399441127649280</td>\n",
       "      <td>en</td>\n",
       "      <td>Facebook</td>\n",
       "      <td>Bachmann: “White People Have Suffered More In ...</td>\n",
       "      <td>fake</td>\n",
       "      <td>NaN</td>\n",
       "      <td>NaN</td>\n",
       "      <td>NaN</td>\n",
       "      <td>NaN</td>\n",
       "      <td>NaN</td>\n",
       "    </tr>\n",
       "    <tr>\n",
       "      <th>419527</th>\n",
       "      <td>192726525</td>\n",
       "      <td>883382140729253894</td>\n",
       "      <td>2017-07-07T17:48:09.000Z</td>\n",
       "      <td>{'annotations': [{'end': 7, 'normalized_text':...</td>\n",
       "      <td>883382140729253894</td>\n",
       "      <td>en</td>\n",
       "      <td>Twitter for iPhone</td>\n",
       "      <td>Bachmann: “White People Have Suffered More In ...</td>\n",
       "      <td>fake</td>\n",
       "      <td>NaN</td>\n",
       "      <td>NaN</td>\n",
       "      <td>NaN</td>\n",
       "      <td>NaN</td>\n",
       "      <td>NaN</td>\n",
       "    </tr>\n",
       "    <tr>\n",
       "      <th>419528</th>\n",
       "      <td>78663449</td>\n",
       "      <td>883414498576662529</td>\n",
       "      <td>2017-07-07T19:56:44.000Z</td>\n",
       "      <td>{'annotations': [{'end': 7, 'normalized_text':...</td>\n",
       "      <td>883414498576662529</td>\n",
       "      <td>en</td>\n",
       "      <td>Facebook</td>\n",
       "      <td>Bachmann: “White People Have Suffered More In ...</td>\n",
       "      <td>fake</td>\n",
       "      <td>NaN</td>\n",
       "      <td>NaN</td>\n",
       "      <td>NaN</td>\n",
       "      <td>NaN</td>\n",
       "      <td>NaN</td>\n",
       "    </tr>\n",
       "    <tr>\n",
       "      <th>419529</th>\n",
       "      <td>133018525</td>\n",
       "      <td>883448484854202370</td>\n",
       "      <td>2017-07-07T22:11:47.000Z</td>\n",
       "      <td>{'annotations': [{'end': 7, 'normalized_text':...</td>\n",
       "      <td>883448484854202370</td>\n",
       "      <td>en</td>\n",
       "      <td>Twitter Web Client</td>\n",
       "      <td>Bachmann: “White People Have Suffered More In ...</td>\n",
       "      <td>fake</td>\n",
       "      <td>NaN</td>\n",
       "      <td>NaN</td>\n",
       "      <td>NaN</td>\n",
       "      <td>NaN</td>\n",
       "      <td>NaN</td>\n",
       "    </tr>\n",
       "    <tr>\n",
       "      <th>419530</th>\n",
       "      <td>3856305322</td>\n",
       "      <td>1059283302954221568</td>\n",
       "      <td>2018-11-05T03:16:34.000Z</td>\n",
       "      <td>{'annotations': [{'end': 16, 'normalized_text'...</td>\n",
       "      <td>1059283302954221568</td>\n",
       "      <td>en</td>\n",
       "      <td>Twitter Web App</td>\n",
       "      <td>Oh my fucking God! Michelle Bachmann is still ...</td>\n",
       "      <td>fake</td>\n",
       "      <td>NaN</td>\n",
       "      <td>NaN</td>\n",
       "      <td>NaN</td>\n",
       "      <td>NaN</td>\n",
       "      <td>NaN</td>\n",
       "    </tr>\n",
       "  </tbody>\n",
       "</table>\n",
       "<p>419531 rows × 14 columns</p>\n",
       "</div>"
      ],
      "text/plain": [
       "         author_id      conversation_id                created_at  \\\n",
       "0         32497478   133032062784503808  2011-11-06T04:04:50.000Z   \n",
       "1         32497478   135231654175318017  2011-11-12T05:45:13.000Z   \n",
       "2          2234711   138610074829594624  2011-11-21T13:29:51.000Z   \n",
       "3         32497478   139099903497469952  2011-11-22T21:56:16.000Z   \n",
       "4         83949216   139102215238459392  2011-11-22T22:05:27.000Z   \n",
       "...            ...                  ...                       ...   \n",
       "419526    39882689   790399441127649280  2016-10-24T03:48:06.000Z   \n",
       "419527   192726525   883382140729253894  2017-07-07T17:48:09.000Z   \n",
       "419528    78663449   883414498576662529  2017-07-07T19:56:44.000Z   \n",
       "419529   133018525   883448484854202370  2017-07-07T22:11:47.000Z   \n",
       "419530  3856305322  1059283302954221568  2018-11-05T03:16:34.000Z   \n",
       "\n",
       "                                                 entities  \\\n",
       "0       {'annotations': [{'end': 5, 'normalized_text':...   \n",
       "1       {'annotations': [{'end': 5, 'normalized_text':...   \n",
       "2       {'annotations': [{'end': 96, 'normalized_text'...   \n",
       "3       {'annotations': [{'end': 5, 'normalized_text':...   \n",
       "4       {'annotations': [{'end': 5, 'normalized_text':...   \n",
       "...                                                   ...   \n",
       "419526  {'annotations': [{'end': 7, 'normalized_text':...   \n",
       "419527  {'annotations': [{'end': 7, 'normalized_text':...   \n",
       "419528  {'annotations': [{'end': 7, 'normalized_text':...   \n",
       "419529  {'annotations': [{'end': 7, 'normalized_text':...   \n",
       "419530  {'annotations': [{'end': 16, 'normalized_text'...   \n",
       "\n",
       "                         id lang              source  \\\n",
       "0        133032062784503808   en           TweetDeck   \n",
       "1        135231654175318017   en           TweetDeck   \n",
       "2        138610074829594624   en         Silver Bird   \n",
       "3        139099903497469952   en           TweetDeck   \n",
       "4        139102215238459392   en           TweetDeck   \n",
       "...                     ...  ...                 ...   \n",
       "419526   790399441127649280   en            Facebook   \n",
       "419527   883382140729253894   en  Twitter for iPhone   \n",
       "419528   883414498576662529   en            Facebook   \n",
       "419529   883448484854202370   en  Twitter Web Client   \n",
       "419530  1059283302954221568   en     Twitter Web App   \n",
       "\n",
       "                                                     text truth  \\\n",
       "0       Romney favored support of the federal assault ...  real   \n",
       "1       Romney favored support of the federal assault ...  real   \n",
       "2       #GOP #tcot RT @sjh2222: 2nd Amendment http://t...  real   \n",
       "3       Romney favored support of the federal assault ...  real   \n",
       "4       Romney favored support of the federal assault ...  real   \n",
       "...                                                   ...   ...   \n",
       "419526  Bachmann: “White People Have Suffered More In ...  fake   \n",
       "419527  Bachmann: “White People Have Suffered More In ...  fake   \n",
       "419528  Bachmann: “White People Have Suffered More In ...  fake   \n",
       "419529  Bachmann: “White People Have Suffered More In ...  fake   \n",
       "419530  Oh my fucking God! Michelle Bachmann is still ...  fake   \n",
       "\n",
       "       in_reply_to_user_id referenced_tweets attachments  geo withheld  \n",
       "0                      NaN               NaN         NaN  NaN      NaN  \n",
       "1                      NaN               NaN         NaN  NaN      NaN  \n",
       "2                      NaN               NaN         NaN  NaN      NaN  \n",
       "3                      NaN               NaN         NaN  NaN      NaN  \n",
       "4                      NaN               NaN         NaN  NaN      NaN  \n",
       "...                    ...               ...         ...  ...      ...  \n",
       "419526                 NaN               NaN         NaN  NaN      NaN  \n",
       "419527                 NaN               NaN         NaN  NaN      NaN  \n",
       "419528                 NaN               NaN         NaN  NaN      NaN  \n",
       "419529                 NaN               NaN         NaN  NaN      NaN  \n",
       "419530                 NaN               NaN         NaN  NaN      NaN  \n",
       "\n",
       "[419531 rows x 14 columns]"
      ]
     },
     "execution_count": 49,
     "metadata": {},
     "output_type": "execute_result"
    }
   ],
   "source": [
    "politifact_tweets = pd.DataFrame(collect_tweets(root_dir + datasets[0]))\n",
    "politifact_tweets"
   ]
  },
  {
   "cell_type": "markdown",
   "metadata": {},
   "source": [
    "We can see that we have more than 400k individual tweets, significantly more than the number of news articles. Let's check the proportions of tweets about real and fake articles."
   ]
  },
  {
   "cell_type": "code",
   "execution_count": 50,
   "metadata": {},
   "outputs": [
    {
     "data": {
      "text/plain": [
       "real    540\n",
       "fake    386\n",
       "Name: truth, dtype: int64"
      ]
     },
     "execution_count": 50,
     "metadata": {},
     "output_type": "execute_result"
    }
   ],
   "source": [
    "text_data['truth'].value_counts()"
   ]
  },
  {
   "cell_type": "markdown",
   "metadata": {},
   "source": [
    "We see that the tweets are quite unevenly distributed. Tweets about fake articles make up only about a quarter of all tweets. We will have to be very careful when drawing conclusions from our model performances. We can also again exploit the ordering of our tweets to remember the exact boundary index between tweets about real and fake articles."
   ]
  },
  {
   "cell_type": "code",
   "execution_count": 51,
   "metadata": {},
   "outputs": [],
   "source": [
    "boundary = 306979"
   ]
  },
  {
   "cell_type": "markdown",
   "metadata": {},
   "source": [
    "As with the articles, our tweet objects also contain a lot of features, but a lot of them have missing values carry little useful information. We will again limit ourselves just to the text part of the tweets."
   ]
  },
  {
   "cell_type": "code",
   "execution_count": 52,
   "metadata": {},
   "outputs": [],
   "source": [
    "text_data = politifact_tweets[['text', 'truth']]\n",
    "del politifact_tweets"
   ]
  },
  {
   "cell_type": "markdown",
   "metadata": {},
   "source": [
    "The next natural step is to use our previously defined tokenization and lemmatization functions and to construct a term-document matrix. For tokenization, we will be using a special tweet tokenizer that keeps the hashtags as one token."
   ]
  },
  {
   "cell_type": "code",
   "execution_count": 53,
   "metadata": {},
   "outputs": [
    {
     "name": "stdout",
     "output_type": "stream",
     "text": [
      "Using tokenizer: <nltk.tokenize.casual.TweetTokenizer object at 0x7f4c7e594730>\n"
     ]
    },
    {
     "data": {
      "text/plain": [
       "<419531x283518 sparse matrix of type '<class 'numpy.int64'>'\n",
       "\twith 5831817 stored elements in Compressed Sparse Row format>"
      ]
     },
     "execution_count": 53,
     "metadata": {},
     "output_type": "execute_result"
    }
   ],
   "source": [
    "tokenizer = TweetTokenizer()\n",
    "text_data = tokenize_clean(text_data, ['text'], tokenizer)\n",
    "text_data = stem_lemmatize(text_data, ['text'])\n",
    "vectorizer = CountVectorizer(\n",
    "    lowercase=False,\n",
    "    preprocessor=lambda x: x,\n",
    "    stop_words=None,\n",
    "    tokenizer=lambda x: text_data[\"text\"][int(x)]\n",
    ")\n",
    "\n",
    "embedding = vectorizer.fit_transform(\n",
    "    [str(i) for i in range(len(text_data[\"text\"]))])\n",
    "\n",
    "embedding"
   ]
  },
  {
   "cell_type": "markdown",
   "metadata": {},
   "source": [
    "We can see from the matrix dimensions that the vocabulary size is approximately 280k, about 10 times as much as in the articles, while the number of all tweets is more than 400 times as much as the number of articles. This is concurrent with the theory, which suggests that vocabulary size follows Heap's law: $V = k N^\\beta$, where $V$ is the size of the vocabulary, $N$ is the corpus size and $k, \\beta$ are constants, with $\\beta$ usually being around $0.7$."
   ]
  },
  {
   "cell_type": "markdown",
   "metadata": {},
   "source": [
    "Let's see which tokens are most frequent."
   ]
  },
  {
   "cell_type": "code",
   "execution_count": 54,
   "metadata": {},
   "outputs": [
    {
     "data": {
      "text/html": [
       "<div>\n",
       "<style scoped>\n",
       "    .dataframe tbody tr th:only-of-type {\n",
       "        vertical-align: middle;\n",
       "    }\n",
       "\n",
       "    .dataframe tbody tr th {\n",
       "        vertical-align: top;\n",
       "    }\n",
       "\n",
       "    .dataframe thead th {\n",
       "        text-align: right;\n",
       "    }\n",
       "</style>\n",
       "<table border=\"1\" class=\"dataframe\">\n",
       "  <thead>\n",
       "    <tr style=\"text-align: right;\">\n",
       "      <th></th>\n",
       "      <th>token</th>\n",
       "      <th>score</th>\n",
       "    </tr>\n",
       "  </thead>\n",
       "  <tbody>\n",
       "    <tr>\n",
       "      <th>61</th>\n",
       "      <td>u</td>\n",
       "      <td>48917</td>\n",
       "    </tr>\n",
       "    <tr>\n",
       "      <th>713</th>\n",
       "      <td>trump</td>\n",
       "      <td>47428</td>\n",
       "    </tr>\n",
       "    <tr>\n",
       "      <th>171</th>\n",
       "      <td>...</td>\n",
       "      <td>42974</td>\n",
       "    </tr>\n",
       "    <tr>\n",
       "      <th>465</th>\n",
       "      <td>one</td>\n",
       "      <td>36868</td>\n",
       "    </tr>\n",
       "    <tr>\n",
       "      <th>323</th>\n",
       "      <td>state</td>\n",
       "      <td>33297</td>\n",
       "    </tr>\n",
       "    <tr>\n",
       "      <th>...</th>\n",
       "      <td>...</td>\n",
       "      <td>...</td>\n",
       "    </tr>\n",
       "    <tr>\n",
       "      <th>60068</th>\n",
       "      <td>customer-centr</td>\n",
       "      <td>2</td>\n",
       "    </tr>\n",
       "    <tr>\n",
       "      <th>60071</th>\n",
       "      <td>stanst</td>\n",
       "      <td>2</td>\n",
       "    </tr>\n",
       "    <tr>\n",
       "      <th>60072</th>\n",
       "      <td>@theorangecon</td>\n",
       "      <td>2</td>\n",
       "    </tr>\n",
       "    <tr>\n",
       "      <th>60074</th>\n",
       "      <td>stamped</td>\n",
       "      <td>2</td>\n",
       "    </tr>\n",
       "    <tr>\n",
       "      <th>100694</th>\n",
       "      <td>@posit</td>\n",
       "      <td>2</td>\n",
       "    </tr>\n",
       "  </tbody>\n",
       "</table>\n",
       "<p>100695 rows × 2 columns</p>\n",
       "</div>"
      ],
      "text/plain": [
       "                 token  score\n",
       "61                   u  48917\n",
       "713              trump  47428\n",
       "171                ...  42974\n",
       "465                one  36868\n",
       "323              state  33297\n",
       "...                ...    ...\n",
       "60068   customer-centr      2\n",
       "60071           stanst      2\n",
       "60072    @theorangecon      2\n",
       "60074          stamped      2\n",
       "100694          @posit      2\n",
       "\n",
       "[100695 rows x 2 columns]"
      ]
     },
     "execution_count": 54,
     "metadata": {},
     "output_type": "execute_result"
    }
   ],
   "source": [
    "tokens = frequent_tokens(embedding)\n",
    "tokens"
   ]
  },
  {
   "cell_type": "markdown",
   "metadata": {},
   "source": [
    "The very general tokens 'u' and '...' are of course among the most frequent ones, along with 'trump'. About a third of all tokens appear at least twice in the corpus, just like with the articles."
   ]
  },
  {
   "cell_type": "code",
   "execution_count": 55,
   "metadata": {},
   "outputs": [
    {
     "data": {
      "text/plain": [
       "(0.0, 0.1)"
      ]
     },
     "execution_count": 55,
     "metadata": {},
     "output_type": "execute_result"
    },
    {
     "data": {
      "image/png": "[encoded data removed]",
      "text/plain": [
       "<Figure size 432x288 with 1 Axes>"
      ]
     },
     "metadata": {
      "needs_background": "light"
     },
     "output_type": "display_data"
    }
   ],
   "source": [
    "a = 2\n",
    "x = np.arange(1.0, 300.0)\n",
    "y = x**(-a) / special.zetac(a)\n",
    "count, bins, ignored = plt.hist(tokens['score'], bins=5000, density=True)\n",
    "plt.plot(x, y/max(y), linewidth=2, color='r')\n",
    "ax = plt.gca()\n",
    "ax.set_xlim([0, 300])\n",
    "ax.set_ylim([0, 0.1])"
   ]
  },
  {
   "cell_type": "markdown",
   "metadata": {},
   "source": [
    "We can see that the distribution again closely matches the Zipfian one."
   ]
  },
  {
   "cell_type": "markdown",
   "metadata": {},
   "source": [
    "Our next step is to visualize our high-dimensional dataset. We must again use some dimensionality reduction techniques. We will again start with a simple PCA."
   ]
  },
  {
   "cell_type": "code",
   "execution_count": 56,
   "metadata": {},
   "outputs": [
    {
     "data": {
      "text/plain": [
       "(419531, 2)"
      ]
     },
     "execution_count": 56,
     "metadata": {},
     "output_type": "execute_result"
    }
   ],
   "source": [
    "pca = TruncatedSVD(n_components=2, random_state=random_state)\n",
    "projection = pca.fit_transform(embedding)\n",
    "projection.shape"
   ]
  },
  {
   "cell_type": "code",
   "execution_count": 57,
   "metadata": {},
   "outputs": [
    {
     "data": {
      "text/plain": [
       "<matplotlib.collections.PathCollection at 0x7f4be896dd00>"
      ]
     },
     "execution_count": 57,
     "metadata": {},
     "output_type": "execute_result"
    },
    {
     "data": {
      "image/png": "[encoded data removed]",
      "text/plain": [
       "<Figure size 432x288 with 2 Axes>"
      ]
     },
     "metadata": {
      "needs_background": "light"
     },
     "output_type": "display_data"
    }
   ],
   "source": [
    "fig, (ax1, ax2) = plt.subplots(1, 2, sharex=True, sharey=True)\n",
    "ax1.scatter(projection[:boundary, 0], projection[:boundary, 1], c='green')\n",
    "ax2.scatter(projection[boundary:, 0], projection[boundary:, 1], c='red')"
   ]
  },
  {
   "cell_type": "markdown",
   "metadata": {},
   "source": [
    "We can see that the distributons of tweets about real and fake articles are roughly similar, with a noticable predominance of real ones in the bottom region of the graph. Let's take a closer look at those."
   ]
  },
  {
   "cell_type": "code",
   "execution_count": 58,
   "metadata": {},
   "outputs": [
    {
     "data": {
      "text/plain": [
       "real    2627\n",
       "fake     285\n",
       "Name: truth, dtype: int64"
      ]
     },
     "execution_count": 58,
     "metadata": {},
     "output_type": "execute_result"
    }
   ],
   "source": [
    "bottom = text_data[projection[:, 1] < -1]\n",
    "bottom['truth'].value_counts()\n"
   ]
  },
  {
   "cell_type": "markdown",
   "metadata": {},
   "source": [
    "We can see that the bottom region indeed contains mostly tweets about real articles. What do there tweets look like?"
   ]
  },
  {
   "cell_type": "code",
   "execution_count": 59,
   "metadata": {},
   "outputs": [
    {
     "data": {
      "text/plain": [
       "6731     [interview, interview, blame, place, nation, p...\n",
       "9193     [hispan, approv, point, msm, presid, @cbsnew, ...\n",
       "10887    [got, post, live, see, nation, fox, face, frie...\n",
       "11992    [monday, @jeffglor, new, interview, russian, s...\n",
       "11993    [monday, @jeffglor, new, interview, russian, s...\n",
       "11997    [monday, @jeffglor, new, interview, russian, s...\n",
       "12124    [monday, @jeffglor, new, interview, russian, s...\n",
       "12129    [interview, russian, miss, air, summit, nation...\n",
       "12811    [news, third, presid, handl, @cbsnew, putin, v...\n",
       "13055    [monday, russian, nation, tell, agreement, fac...\n",
       "Name: text, dtype: object"
      ]
     },
     "execution_count": 59,
     "metadata": {},
     "output_type": "execute_result"
    }
   ],
   "source": [
    "bottom['text'].head(10)"
   ]
  },
  {
   "cell_type": "code",
   "execution_count": 60,
   "metadata": {},
   "outputs": [
    {
     "data": {
      "text/plain": [
       "377077    [approv, via, presid, best, better, rate, trum...\n",
       "377108    [neg, better, #trump, point, mainstream, reaga...\n",
       "377227    [better, liber, point, progress, reagan, appro...\n",
       "377229    [read, better, new, point, reagan, fox, donald...\n",
       "377272    [read, better, point, updat, reagan, fox, dona...\n",
       "379681    [attack, wrote, nyc, nation, today, fox, bomb,...\n",
       "380321    [video, say, summit, clarifi, complet, fox, de...\n",
       "390519    [snake, interview, 😳, chop, head, ice, trump, ...\n",
       "393371    [news, get, america, =p, greed, understand, tr...\n",
       "398366    [say, oppos, lie, trump, histori, trump, con, ...\n",
       "Name: text, dtype: object"
      ]
     },
     "execution_count": 60,
     "metadata": {},
     "output_type": "execute_result"
    }
   ],
   "source": [
    "bottom['text'].tail(10)\n"
   ]
  },
  {
   "cell_type": "markdown",
   "metadata": {},
   "source": [
    "We can see that the token *presid*, a stem of *president*, is seemingly present in most of these tweets. Let's see if this observation scales over the whole datatset."
   ]
  },
  {
   "cell_type": "code",
   "execution_count": 61,
   "metadata": {},
   "outputs": [
    {
     "data": {
      "text/plain": [
       "real    0.853789\n",
       "fake    0.146211\n",
       "Name: truth, dtype: float64"
      ]
     },
     "execution_count": 61,
     "metadata": {},
     "output_type": "execute_result"
    }
   ],
   "source": [
    "word_truths(text_data, 'presid', normalize=True)"
   ]
  },
  {
   "cell_type": "markdown",
   "metadata": {},
   "source": [
    "We can see that the token 'presid' does indeed mostly appear in tweets about real articles. We have to remmeber though, that our dataset is quite unbalanced and contains many more tweets about real articles in general, so we can't be too confident in this conclusion."
   ]
  },
  {
   "cell_type": "markdown",
   "metadata": {},
   "source": [
    "We can also remember that in articles, the token 'transcript' was also mostly associated with real articles. Does the same hold for tweets?"
   ]
  },
  {
   "cell_type": "code",
   "execution_count": 62,
   "metadata": {},
   "outputs": [
    {
     "data": {
      "text/plain": [
       "real    0.988787\n",
       "fake    0.011213\n",
       "Name: truth, dtype: float64"
      ]
     },
     "execution_count": 62,
     "metadata": {},
     "output_type": "execute_result"
    }
   ],
   "source": [
    "word_truths(text_data, 'transcript', normalize=True)"
   ]
  },
  {
   "cell_type": "markdown",
   "metadata": {},
   "source": [
    "The results are quite remarkable. Almost **99%** of tweets containing 'transcript' are about real articles!"
   ]
  },
  {
   "cell_type": "markdown",
   "metadata": {},
   "source": [
    "Next, we can try the SVM classifiers we trained on articles on our tweet data. From the PCA visualization, it doesn't look like the projection is very linearly separable, so we can't expect much."
   ]
  },
  {
   "cell_type": "code",
   "execution_count": 63,
   "metadata": {},
   "outputs": [
    {
     "data": {
      "text/plain": [
       "0.6555200926749155"
      ]
     },
     "execution_count": 63,
     "metadata": {},
     "output_type": "execute_result"
    }
   ],
   "source": [
    "labels = np.array(\n",
    "    [1 if truth == \"real\" else 2 for truth in text_data['truth']])\n",
    "\n",
    "svm_classifier = load('models/svm_news_pca.joblib')\n",
    "accuracy_score(labels, svm_classifier.predict(projection))\n"
   ]
  },
  {
   "cell_type": "code",
   "execution_count": 64,
   "metadata": {},
   "outputs": [
    {
     "data": {
      "text/plain": [
       "[<matplotlib.lines.Line2D at 0x7f4bd27b01c0>]"
      ]
     },
     "execution_count": 64,
     "metadata": {},
     "output_type": "execute_result"
    },
    {
     "data": {
      "image/png": "[encoded data removed]",
      "text/plain": [
       "<Figure size 432x288 with 2 Axes>"
      ]
     },
     "metadata": {
      "needs_background": "light"
     },
     "output_type": "display_data"
    }
   ],
   "source": [
    "w = svm_classifier.coef_[0]\n",
    "b = svm_classifier.intercept_[0]\n",
    "x_points = np.linspace(-0.2, 2.5)\n",
    "y_points = -(w[0] / w[1]) * x_points - b / w[1]\n",
    "fig, (ax1, ax2) = plt.subplots(1, 2, sharex=True, sharey=True)\n",
    "ax1.scatter(projection[:boundary, 0], projection[:boundary, 1], c='green')\n",
    "ax2.scatter(projection[boundary:, 0], projection[boundary:, 1], c='red')\n",
    "ax1.plot(x_points, y_points, c='black')\n",
    "ax2.plot(x_points, y_points, c='black')"
   ]
  },
  {
   "cell_type": "markdown",
   "metadata": {},
   "source": [
    "We see that the linear model trained on article PCA projection doesn't perform that well. Most of the accuracy comes from exploiting the unbalanced structure of the dataset."
   ]
  },
  {
   "cell_type": "markdown",
   "metadata": {},
   "source": [
    "Unfortunately, we can't use the model that was trained on the whole article matrix, as the vocabulary dimensions don't match. We could theoretically project the tweet data down to the size of article vocabulary, but in practice, the resulting dense matrix would be too large to fit in memory (about 60GB)."
   ]
  },
  {
   "cell_type": "markdown",
   "metadata": {},
   "source": [
    "Instead, let us see how the tweet data looks if we use a TF-IDF vectorizer."
   ]
  },
  {
   "cell_type": "code",
   "execution_count": 65,
   "metadata": {},
   "outputs": [
    {
     "data": {
      "text/plain": [
       "<419531x283518 sparse matrix of type '<class 'numpy.float64'>'\n",
       "\twith 5831817 stored elements in Compressed Sparse Row format>"
      ]
     },
     "execution_count": 65,
     "metadata": {},
     "output_type": "execute_result"
    }
   ],
   "source": [
    "tf_idf_transformer = TfidfTransformer()\n",
    "embedding = tf_idf_transformer.fit_transform(embedding)\n",
    "embedding"
   ]
  },
  {
   "cell_type": "markdown",
   "metadata": {},
   "source": [
    "To visualize, we again need to use PCA."
   ]
  },
  {
   "cell_type": "code",
   "execution_count": 66,
   "metadata": {},
   "outputs": [
    {
     "data": {
      "text/plain": [
       "(419531, 2)"
      ]
     },
     "execution_count": 66,
     "metadata": {},
     "output_type": "execute_result"
    }
   ],
   "source": [
    "pca = TruncatedSVD(n_components=2, random_state=random_state)\n",
    "projection = pca.fit_transform(embedding)\n",
    "projection.shape"
   ]
  },
  {
   "cell_type": "code",
   "execution_count": 67,
   "metadata": {},
   "outputs": [
    {
     "data": {
      "text/plain": [
       "<matplotlib.collections.PathCollection at 0x7f4be6143970>"
      ]
     },
     "execution_count": 67,
     "metadata": {},
     "output_type": "execute_result"
    },
    {
     "data": {
      "image/png": "[encoded data removed]",
      "text/plain": [
       "<Figure size 432x288 with 2 Axes>"
      ]
     },
     "metadata": {
      "needs_background": "light"
     },
     "output_type": "display_data"
    }
   ],
   "source": [
    "fig, (ax1, ax2) = plt.subplots(1, 2, sharex=True, sharey=True)\n",
    "ax1.scatter(projection[:boundary, 0], projection[:boundary, 1], c='green')\n",
    "ax2.scatter(projection[boundary:, 0], projection[boundary:, 1], c='red')"
   ]
  },
  {
   "cell_type": "markdown",
   "metadata": {},
   "source": [
    "The PCA projection of TF-IDF matrix looks very interesting. It appears that the first two principal components are very uncorrelated, and that high value along the first component indicates tweets about fake articles. Let's take a closer look at them."
   ]
  },
  {
   "cell_type": "code",
   "execution_count": 68,
   "metadata": {},
   "outputs": [
    {
     "data": {
      "text/html": [
       "<div>\n",
       "<style scoped>\n",
       "    .dataframe tbody tr th:only-of-type {\n",
       "        vertical-align: middle;\n",
       "    }\n",
       "\n",
       "    .dataframe tbody tr th {\n",
       "        vertical-align: top;\n",
       "    }\n",
       "\n",
       "    .dataframe thead th {\n",
       "        text-align: right;\n",
       "    }\n",
       "</style>\n",
       "<table border=\"1\" class=\"dataframe\">\n",
       "  <thead>\n",
       "    <tr style=\"text-align: right;\">\n",
       "      <th></th>\n",
       "      <th>text</th>\n",
       "      <th>truth</th>\n",
       "    </tr>\n",
       "  </thead>\n",
       "  <tbody>\n",
       "    <tr>\n",
       "      <th>332159</th>\n",
       "      <td>[enzym, cancer, found, doctor, discov, vaccin,...</td>\n",
       "      <td>fake</td>\n",
       "    </tr>\n",
       "    <tr>\n",
       "      <th>332160</th>\n",
       "      <td>[enzym, cancer, found, doctor, discov, vaccin,...</td>\n",
       "      <td>fake</td>\n",
       "    </tr>\n",
       "    <tr>\n",
       "      <th>332161</th>\n",
       "      <td>[enzym, cancer, found, doctor, discov, vaccin,...</td>\n",
       "      <td>fake</td>\n",
       "    </tr>\n",
       "    <tr>\n",
       "      <th>332162</th>\n",
       "      <td>[enzym, cancer, found, doctor, discov, they'r,...</td>\n",
       "      <td>fake</td>\n",
       "    </tr>\n",
       "    <tr>\n",
       "      <th>332163</th>\n",
       "      <td>[enzym, cancer, found, doctor, discov, vaccin,...</td>\n",
       "      <td>fake</td>\n",
       "    </tr>\n",
       "    <tr>\n",
       "      <th>...</th>\n",
       "      <td>...</td>\n",
       "      <td>...</td>\n",
       "    </tr>\n",
       "    <tr>\n",
       "      <th>337190</th>\n",
       "      <td>[enzym, cancer, via, found, doctor, discov, @b...</td>\n",
       "      <td>fake</td>\n",
       "    </tr>\n",
       "    <tr>\n",
       "      <th>337191</th>\n",
       "      <td>[enzym, cancer, found, doctor, discov, vaccin,...</td>\n",
       "      <td>fake</td>\n",
       "    </tr>\n",
       "    <tr>\n",
       "      <th>337192</th>\n",
       "      <td>[enzym, cancer, found, doctor, discov, vaccin,...</td>\n",
       "      <td>fake</td>\n",
       "    </tr>\n",
       "    <tr>\n",
       "      <th>337193</th>\n",
       "      <td>[enzym, cancer, found, doctor, discov, may, ed...</td>\n",
       "      <td>fake</td>\n",
       "    </tr>\n",
       "    <tr>\n",
       "      <th>337194</th>\n",
       "      <td>[enzym, cancer, via, found, doctor, discov, @w...</td>\n",
       "      <td>fake</td>\n",
       "    </tr>\n",
       "  </tbody>\n",
       "</table>\n",
       "<p>4952 rows × 2 columns</p>\n",
       "</div>"
      ],
      "text/plain": [
       "                                                     text truth\n",
       "332159  [enzym, cancer, found, doctor, discov, vaccin,...  fake\n",
       "332160  [enzym, cancer, found, doctor, discov, vaccin,...  fake\n",
       "332161  [enzym, cancer, found, doctor, discov, vaccin,...  fake\n",
       "332162  [enzym, cancer, found, doctor, discov, they'r,...  fake\n",
       "332163  [enzym, cancer, found, doctor, discov, vaccin,...  fake\n",
       "...                                                   ...   ...\n",
       "337190  [enzym, cancer, via, found, doctor, discov, @b...  fake\n",
       "337191  [enzym, cancer, found, doctor, discov, vaccin,...  fake\n",
       "337192  [enzym, cancer, found, doctor, discov, vaccin,...  fake\n",
       "337193  [enzym, cancer, found, doctor, discov, may, ed...  fake\n",
       "337194  [enzym, cancer, via, found, doctor, discov, @w...  fake\n",
       "\n",
       "[4952 rows x 2 columns]"
      ]
     },
     "execution_count": 68,
     "metadata": {},
     "output_type": "execute_result"
    }
   ],
   "source": [
    "text_data[projection[:, 0] > 0.5]"
   ]
  },
  {
   "cell_type": "markdown",
   "metadata": {},
   "source": [
    "We notice that these tweets seem to all be about vaccinations, indicating that the first principal component might measure that. Let's also take a look at how the token 'vaccin' is distributed among all tweets."
   ]
  },
  {
   "cell_type": "code",
   "execution_count": 69,
   "metadata": {},
   "outputs": [
    {
     "data": {
      "text/plain": [
       "fake    6414\n",
       "real     517\n",
       "Name: truth, dtype: int64"
      ]
     },
     "execution_count": 69,
     "metadata": {},
     "output_type": "execute_result"
    }
   ],
   "source": [
    "word_truths(text_data, 'vaccin')"
   ]
  },
  {
   "cell_type": "markdown",
   "metadata": {},
   "source": [
    "We can see that tweets about vaccines are indeed mostly referencing the fake news articles. However, interestingly enough, these tweets make up a very small amount of our entire dataset. "
   ]
  },
  {
   "cell_type": "markdown",
   "metadata": {},
   "source": [
    "Let's also take a look at tweets along the second principal component.\n"
   ]
  },
  {
   "cell_type": "code",
   "execution_count": 73,
   "metadata": {},
   "outputs": [
    {
     "data": {
      "text/html": [
       "<div>\n",
       "<style scoped>\n",
       "    .dataframe tbody tr th:only-of-type {\n",
       "        vertical-align: middle;\n",
       "    }\n",
       "\n",
       "    .dataframe tbody tr th {\n",
       "        vertical-align: top;\n",
       "    }\n",
       "\n",
       "    .dataframe thead th {\n",
       "        text-align: right;\n",
       "    }\n",
       "</style>\n",
       "<table border=\"1\" class=\"dataframe\">\n",
       "  <thead>\n",
       "    <tr style=\"text-align: right;\">\n",
       "      <th></th>\n",
       "      <th>text</th>\n",
       "      <th>truth</th>\n",
       "    </tr>\n",
       "  </thead>\n",
       "  <tbody>\n",
       "    <tr>\n",
       "      <th>56748</th>\n",
       "      <td>[statement, presid]</td>\n",
       "      <td>real</td>\n",
       "    </tr>\n",
       "    <tr>\n",
       "      <th>56749</th>\n",
       "      <td>[statement, presid]</td>\n",
       "      <td>real</td>\n",
       "    </tr>\n",
       "    <tr>\n",
       "      <th>56750</th>\n",
       "      <td>[statement, presid]</td>\n",
       "      <td>real</td>\n",
       "    </tr>\n",
       "    <tr>\n",
       "      <th>56751</th>\n",
       "      <td>[statement, presid]</td>\n",
       "      <td>real</td>\n",
       "    </tr>\n",
       "    <tr>\n",
       "      <th>56752</th>\n",
       "      <td>[statement, presid]</td>\n",
       "      <td>real</td>\n",
       "    </tr>\n",
       "    <tr>\n",
       "      <th>...</th>\n",
       "      <td>...</td>\n",
       "      <td>...</td>\n",
       "    </tr>\n",
       "    <tr>\n",
       "      <th>291767</th>\n",
       "      <td>[news, presid, face, trump, interview, transcr...</td>\n",
       "      <td>real</td>\n",
       "    </tr>\n",
       "    <tr>\n",
       "      <th>291776</th>\n",
       "      <td>[news, presid, face, trump, interview, transcr...</td>\n",
       "      <td>real</td>\n",
       "    </tr>\n",
       "    <tr>\n",
       "      <th>291778</th>\n",
       "      <td>[news, presid, face, trump, interview, transcr...</td>\n",
       "      <td>real</td>\n",
       "    </tr>\n",
       "    <tr>\n",
       "      <th>292019</th>\n",
       "      <td>[news, presid, face, interview, trump, transcr...</td>\n",
       "      <td>real</td>\n",
       "    </tr>\n",
       "    <tr>\n",
       "      <th>292020</th>\n",
       "      <td>[news, presid, face, interview, trump, transcr...</td>\n",
       "      <td>real</td>\n",
       "    </tr>\n",
       "  </tbody>\n",
       "</table>\n",
       "<p>1928 rows × 2 columns</p>\n",
       "</div>"
      ],
      "text/plain": [
       "                                                     text truth\n",
       "56748                                 [statement, presid]  real\n",
       "56749                                 [statement, presid]  real\n",
       "56750                                 [statement, presid]  real\n",
       "56751                                 [statement, presid]  real\n",
       "56752                                 [statement, presid]  real\n",
       "...                                                   ...   ...\n",
       "291767  [news, presid, face, trump, interview, transcr...  real\n",
       "291776  [news, presid, face, trump, interview, transcr...  real\n",
       "291778  [news, presid, face, trump, interview, transcr...  real\n",
       "292019  [news, presid, face, interview, trump, transcr...  real\n",
       "292020  [news, presid, face, interview, trump, transcr...  real\n",
       "\n",
       "[1928 rows x 2 columns]"
      ]
     },
     "execution_count": 73,
     "metadata": {},
     "output_type": "execute_result"
    }
   ],
   "source": [
    "text_data[projection[:, 1] > 0.4]"
   ]
  },
  {
   "cell_type": "markdown",
   "metadata": {},
   "source": [
    "This principal component seems to be mostly associated with tweets about the pesident. As we have seen earlier, these tweets tend to be more about real articles."
   ]
  },
  {
   "cell_type": "markdown",
   "metadata": {},
   "source": [
    "Overall, we can conclude that the both the article and the tweet dataset are very complex. While we were able to identify some interesting tokens that seem to be a good indicator of the validity of an article or an associated tweet, like 'transcript', 'presid' and 'vaccin', actual prediction remains hard, not least because of the the variable vocabulary size between articles and tweets. Highly unbalanced classes further undermine the certainty of our models. We have also learned that it is hard to visualize these high-domensional spaces, as their projections down to 2 components seldom retain a lot of information. And ultimately, we have noticed the larger our dataset isdatatset, the harder it is to have an accurate idea about how the raw data actually looks like."
   ]
  }
 ],
 "metadata": {
  "interpreter": {
   "hash": "916dbcbb3f70747c44a77c7bcd40155683ae19c65e1c03b4aa3499c5328201f1"
  },
  "kernelspec": {
   "display_name": "Python 3",
   "language": "python",
   "name": "python3"
  },
  "language_info": {
   "codemirror_mode": {
    "name": "ipython",
    "version": 3
   },
   "file_extension": ".py",
   "mimetype": "text/x-python",
   "name": "python",
   "nbconvert_exporter": "python",
   "pygments_lexer": "ipython3",
   "version": "3.9.7"
  }
 },
 "nbformat": 4,
 "nbformat_minor": 2
}
