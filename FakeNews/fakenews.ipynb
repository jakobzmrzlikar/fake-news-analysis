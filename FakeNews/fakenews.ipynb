{
 "cells": [
  {
   "cell_type": "markdown",
   "metadata": {},
   "source": [
    "# Fake news tweet analysis on FakeNewsNet dataset"
   ]
  },
  {
   "cell_type": "code",
   "execution_count": 1,
   "metadata": {},
   "outputs": [
    {
     "name": "stderr",
     "output_type": "stream",
     "text": [
      "[nltk_data] Downloading package stopwords to /home/jakob/nltk_data...\n",
      "[nltk_data]   Package stopwords is already up-to-date!\n",
      "[nltk_data] Downloading package punkt to /home/jakob/nltk_data...\n",
      "[nltk_data]   Package punkt is already up-to-date!\n",
      "[nltk_data] Downloading package wordnet to /home/jakob/nltk_data...\n",
      "[nltk_data]   Package wordnet is already up-to-date!\n"
     ]
    }
   ],
   "source": [
    "import matplotlib.pyplot as plt\n",
    "import pandas as pd\n",
    "\n",
    "from sklearn.feature_extraction.text import CountVectorizer, TfidfTransformer\n",
    "from sklearn.decomposition import PCA, TruncatedSVD, LatentDirichletAllocation\n",
    "from sklearn.manifold import TSNE\n",
    "\n",
    "import nltk\n",
    "from nltk.tokenize import word_tokenize\n",
    "from nltk.corpus import stopwords\n",
    "from nltk.stem import WordNetLemmatizer\n",
    "from nltk.stem.porter import *\n",
    "\n",
    "nltk.download(\"stopwords\")\n",
    "nltk.download('punkt')\n",
    "nltk.download('wordnet')\n",
    "\n",
    "from utils import collect_tweets, collect_news\n",
    "from models import Autoencoder\n",
    "\n",
    "%matplotlib inline\n"
   ]
  },
  {
   "cell_type": "code",
   "execution_count": 2,
   "metadata": {},
   "outputs": [],
   "source": [
    "root_dir = \"/media/jakob/DATA/Projects/FakeNewsNet/code/fakenewsnet_dataset/\"\n",
    "\n",
    "datasets = [\n",
    "    \"politifact\",\n",
    "    \"gossipcop\"\n",
    "]\n",
    "\n",
    "random_state = 42    # For reproducable random initialization "
   ]
  },
  {
   "cell_type": "code",
   "execution_count": 3,
   "metadata": {},
   "outputs": [
    {
     "data": {
      "text/html": [
       "<div>\n",
       "<style scoped>\n",
       "    .dataframe tbody tr th:only-of-type {\n",
       "        vertical-align: middle;\n",
       "    }\n",
       "\n",
       "    .dataframe tbody tr th {\n",
       "        vertical-align: top;\n",
       "    }\n",
       "\n",
       "    .dataframe thead th {\n",
       "        text-align: right;\n",
       "    }\n",
       "</style>\n",
       "<table border=\"1\" class=\"dataframe\">\n",
       "  <thead>\n",
       "    <tr style=\"text-align: right;\">\n",
       "      <th></th>\n",
       "      <th>url</th>\n",
       "      <th>text</th>\n",
       "      <th>images</th>\n",
       "      <th>top_img</th>\n",
       "      <th>keywords</th>\n",
       "      <th>authors</th>\n",
       "      <th>canonical_link</th>\n",
       "      <th>title</th>\n",
       "      <th>meta_data</th>\n",
       "      <th>movies</th>\n",
       "      <th>publish_date</th>\n",
       "      <th>source</th>\n",
       "      <th>summary</th>\n",
       "      <th>truth</th>\n",
       "    </tr>\n",
       "  </thead>\n",
       "  <tbody>\n",
       "    <tr>\n",
       "      <th>0</th>\n",
       "      <td>http://www.senate.gov/legislative/LIS/roll_cal...</td>\n",
       "      <td>Roll Call Vote 111th Congress - 1st Session\\n\\...</td>\n",
       "      <td>[http://www.senate.gov/resources/images/usFlag...</td>\n",
       "      <td>http://www.senate.gov/resources/images/us_sen.ico</td>\n",
       "      <td>[]</td>\n",
       "      <td>[]</td>\n",
       "      <td></td>\n",
       "      <td>U.S. Senate: U.S. Senate Roll Call Votes 111th...</td>\n",
       "      <td>{'viewport': 'width=device-width, initial-scal...</td>\n",
       "      <td>[]</td>\n",
       "      <td>NaN</td>\n",
       "      <td>http://www.senate.gov</td>\n",
       "      <td></td>\n",
       "      <td>real</td>\n",
       "    </tr>\n",
       "    <tr>\n",
       "      <th>1</th>\n",
       "      <td>http://www.politico.com/news/stories/0509/2241...</td>\n",
       "      <td>Barack Obama ended up in the middle of an unli...</td>\n",
       "      <td>[data:image/gif;base64,R0lGODlhAQABAAAAACH5BAE...</td>\n",
       "      <td>http://s3-origin-images.politico.com/news/0905...</td>\n",
       "      <td>[]</td>\n",
       "      <td>[Alexander Burns]</td>\n",
       "      <td>https://www.politico.com/story/2009/05/trump-o...</td>\n",
       "      <td>Trump on Prejean: Same as Obama</td>\n",
       "      <td>{'article': {'opinion': 'false'}, 'og': {'titl...</td>\n",
       "      <td>[]</td>\n",
       "      <td>1.242120e+09</td>\n",
       "      <td>http://www.politico.com</td>\n",
       "      <td></td>\n",
       "      <td>real</td>\n",
       "    </tr>\n",
       "    <tr>\n",
       "      <th>2</th>\n",
       "      <td>http://pollingreport.com/CongJob.htm</td>\n",
       "      <td>Follow @pollreport CONGRESS – Job Rating See a...</td>\n",
       "      <td>[http://pollingreport.com/images/logo3.gif]</td>\n",
       "      <td></td>\n",
       "      <td>[]</td>\n",
       "      <td>[]</td>\n",
       "      <td></td>\n",
       "      <td>Congress: Job Ratings</td>\n",
       "      <td>{'GENERATOR': 'Microsoft FrontPage 5.0', 'Micr...</td>\n",
       "      <td>[]</td>\n",
       "      <td>NaN</td>\n",
       "      <td>http://pollingreport.com</td>\n",
       "      <td></td>\n",
       "      <td>real</td>\n",
       "    </tr>\n",
       "    <tr>\n",
       "      <th>3</th>\n",
       "      <td>https://web.archive.org/web/20090514023215/htt...</td>\n",
       "      <td>House GOP Introduces Keep Terrorists Out of Am...</td>\n",
       "      <td>[https://web.archive.org/web/20090514023215im_...</td>\n",
       "      <td>https://web.archive.org/web/20090514023215im_/...</td>\n",
       "      <td>[]</td>\n",
       "      <td>[]</td>\n",
       "      <td></td>\n",
       "      <td>House GOP Introduces Keep Terrorists Out of Am...</td>\n",
       "      <td>{}</td>\n",
       "      <td>[]</td>\n",
       "      <td>NaN</td>\n",
       "      <td>https://web.archive.org</td>\n",
       "      <td></td>\n",
       "      <td>real</td>\n",
       "    </tr>\n",
       "    <tr>\n",
       "      <th>4</th>\n",
       "      <td>https://web.archive.org/web/20061116002411/htt...</td>\n",
       "      <td>'); //--&gt; E-mail | Print | Comments | Request ...</td>\n",
       "      <td>[https://web.archive.org/web/20061116002411im_...</td>\n",
       "      <td>https://web.archive.org/web/20061116002411im_/...</td>\n",
       "      <td>[]</td>\n",
       "      <td>[Robert Lenzner]</td>\n",
       "      <td></td>\n",
       "      <td>Is The End In Sight For Supermax?</td>\n",
       "      <td>{'description': 'Americas most secure and most...</td>\n",
       "      <td>[]</td>\n",
       "      <td>1.145052e+09</td>\n",
       "      <td>https://web.archive.org</td>\n",
       "      <td></td>\n",
       "      <td>real</td>\n",
       "    </tr>\n",
       "  </tbody>\n",
       "</table>\n",
       "</div>"
      ],
      "text/plain": [
       "                                                 url  \\\n",
       "0  http://www.senate.gov/legislative/LIS/roll_cal...   \n",
       "1  http://www.politico.com/news/stories/0509/2241...   \n",
       "2               http://pollingreport.com/CongJob.htm   \n",
       "3  https://web.archive.org/web/20090514023215/htt...   \n",
       "4  https://web.archive.org/web/20061116002411/htt...   \n",
       "\n",
       "                                                text  \\\n",
       "0  Roll Call Vote 111th Congress - 1st Session\\n\\...   \n",
       "1  Barack Obama ended up in the middle of an unli...   \n",
       "2  Follow @pollreport CONGRESS – Job Rating See a...   \n",
       "3  House GOP Introduces Keep Terrorists Out of Am...   \n",
       "4  '); //--> E-mail | Print | Comments | Request ...   \n",
       "\n",
       "                                              images  \\\n",
       "0  [http://www.senate.gov/resources/images/usFlag...   \n",
       "1  [data:image/gif;base64,R0lGODlhAQABAAAAACH5BAE...   \n",
       "2        [http://pollingreport.com/images/logo3.gif]   \n",
       "3  [https://web.archive.org/web/20090514023215im_...   \n",
       "4  [https://web.archive.org/web/20061116002411im_...   \n",
       "\n",
       "                                             top_img keywords  \\\n",
       "0  http://www.senate.gov/resources/images/us_sen.ico       []   \n",
       "1  http://s3-origin-images.politico.com/news/0905...       []   \n",
       "2                                                          []   \n",
       "3  https://web.archive.org/web/20090514023215im_/...       []   \n",
       "4  https://web.archive.org/web/20061116002411im_/...       []   \n",
       "\n",
       "             authors                                     canonical_link  \\\n",
       "0                 []                                                      \n",
       "1  [Alexander Burns]  https://www.politico.com/story/2009/05/trump-o...   \n",
       "2                 []                                                      \n",
       "3                 []                                                      \n",
       "4   [Robert Lenzner]                                                      \n",
       "\n",
       "                                               title  \\\n",
       "0  U.S. Senate: U.S. Senate Roll Call Votes 111th...   \n",
       "1                    Trump on Prejean: Same as Obama   \n",
       "2                              Congress: Job Ratings   \n",
       "3  House GOP Introduces Keep Terrorists Out of Am...   \n",
       "4                  Is The End In Sight For Supermax?   \n",
       "\n",
       "                                           meta_data movies  publish_date  \\\n",
       "0  {'viewport': 'width=device-width, initial-scal...     []           NaN   \n",
       "1  {'article': {'opinion': 'false'}, 'og': {'titl...     []  1.242120e+09   \n",
       "2  {'GENERATOR': 'Microsoft FrontPage 5.0', 'Micr...     []           NaN   \n",
       "3                                                 {}     []           NaN   \n",
       "4  {'description': 'Americas most secure and most...     []  1.145052e+09   \n",
       "\n",
       "                     source summary truth  \n",
       "0     http://www.senate.gov          real  \n",
       "1   http://www.politico.com          real  \n",
       "2  http://pollingreport.com          real  \n",
       "3   https://web.archive.org          real  \n",
       "4   https://web.archive.org          real  "
      ]
     },
     "execution_count": 3,
     "metadata": {},
     "output_type": "execute_result"
    }
   ],
   "source": [
    "politifact_news = pd.read_json(collect_news(root_dir + datasets[0]))\n",
    "politifact_news.head(5)"
   ]
  },
  {
   "cell_type": "code",
   "execution_count": 4,
   "metadata": {},
   "outputs": [
    {
     "data": {
      "text/html": [
       "<div>\n",
       "<style scoped>\n",
       "    .dataframe tbody tr th:only-of-type {\n",
       "        vertical-align: middle;\n",
       "    }\n",
       "\n",
       "    .dataframe tbody tr th {\n",
       "        vertical-align: top;\n",
       "    }\n",
       "\n",
       "    .dataframe thead th {\n",
       "        text-align: right;\n",
       "    }\n",
       "</style>\n",
       "<table border=\"1\" class=\"dataframe\">\n",
       "  <thead>\n",
       "    <tr style=\"text-align: right;\">\n",
       "      <th></th>\n",
       "      <th>text</th>\n",
       "      <th>title</th>\n",
       "      <th>truth</th>\n",
       "    </tr>\n",
       "  </thead>\n",
       "  <tbody>\n",
       "    <tr>\n",
       "      <th>0</th>\n",
       "      <td>Roll Call Vote 111th Congress - 1st Session\\n\\...</td>\n",
       "      <td>U.S. Senate: U.S. Senate Roll Call Votes 111th...</td>\n",
       "      <td>real</td>\n",
       "    </tr>\n",
       "    <tr>\n",
       "      <th>1</th>\n",
       "      <td>Barack Obama ended up in the middle of an unli...</td>\n",
       "      <td>Trump on Prejean: Same as Obama</td>\n",
       "      <td>real</td>\n",
       "    </tr>\n",
       "    <tr>\n",
       "      <th>2</th>\n",
       "      <td>Follow @pollreport CONGRESS – Job Rating See a...</td>\n",
       "      <td>Congress: Job Ratings</td>\n",
       "      <td>real</td>\n",
       "    </tr>\n",
       "    <tr>\n",
       "      <th>3</th>\n",
       "      <td>House GOP Introduces Keep Terrorists Out of Am...</td>\n",
       "      <td>House GOP Introduces Keep Terrorists Out of Am...</td>\n",
       "      <td>real</td>\n",
       "    </tr>\n",
       "    <tr>\n",
       "      <th>4</th>\n",
       "      <td>'); //--&gt; E-mail | Print | Comments | Request ...</td>\n",
       "      <td>Is The End In Sight For Supermax?</td>\n",
       "      <td>real</td>\n",
       "    </tr>\n",
       "    <tr>\n",
       "      <th>...</th>\n",
       "      <td>...</td>\n",
       "      <td>...</td>\n",
       "      <td>...</td>\n",
       "    </tr>\n",
       "    <tr>\n",
       "      <th>921</th>\n",
       "      <td>10:30 pm last night police received a call abo...</td>\n",
       "      <td>Manager killed 10 employees at checkers on 183...</td>\n",
       "      <td>fake</td>\n",
       "    </tr>\n",
       "    <tr>\n",
       "      <th>922</th>\n",
       "      <td>WASHINGTON, D.C. (AP) — At a press conference ...</td>\n",
       "      <td>Paul Ryan: “Donald Trump Plans To Resign From ...</td>\n",
       "      <td>fake</td>\n",
       "    </tr>\n",
       "    <tr>\n",
       "      <th>923</th>\n",
       "      <td>For full functionality of this site it is nece...</td>\n",
       "      <td></td>\n",
       "      <td>fake</td>\n",
       "    </tr>\n",
       "    <tr>\n",
       "      <th>924</th>\n",
       "      <td>As we promised, Freedom Crossroads has just le...</td>\n",
       "      <td>BREAKING: The Democrat James Comey Has Been Ha...</td>\n",
       "      <td>fake</td>\n",
       "    </tr>\n",
       "    <tr>\n",
       "      <th>925</th>\n",
       "      <td>On Sunday, ex-Rep. Michelle Bachmann spoke wit...</td>\n",
       "      <td>Bachmann: “White People Have Suffered More In ...</td>\n",
       "      <td>fake</td>\n",
       "    </tr>\n",
       "  </tbody>\n",
       "</table>\n",
       "<p>926 rows × 3 columns</p>\n",
       "</div>"
      ],
      "text/plain": [
       "                                                  text  \\\n",
       "0    Roll Call Vote 111th Congress - 1st Session\\n\\...   \n",
       "1    Barack Obama ended up in the middle of an unli...   \n",
       "2    Follow @pollreport CONGRESS – Job Rating See a...   \n",
       "3    House GOP Introduces Keep Terrorists Out of Am...   \n",
       "4    '); //--> E-mail | Print | Comments | Request ...   \n",
       "..                                                 ...   \n",
       "921  10:30 pm last night police received a call abo...   \n",
       "922  WASHINGTON, D.C. (AP) — At a press conference ...   \n",
       "923  For full functionality of this site it is nece...   \n",
       "924  As we promised, Freedom Crossroads has just le...   \n",
       "925  On Sunday, ex-Rep. Michelle Bachmann spoke wit...   \n",
       "\n",
       "                                                 title truth  \n",
       "0    U.S. Senate: U.S. Senate Roll Call Votes 111th...  real  \n",
       "1                      Trump on Prejean: Same as Obama  real  \n",
       "2                                Congress: Job Ratings  real  \n",
       "3    House GOP Introduces Keep Terrorists Out of Am...  real  \n",
       "4                    Is The End In Sight For Supermax?  real  \n",
       "..                                                 ...   ...  \n",
       "921  Manager killed 10 employees at checkers on 183...  fake  \n",
       "922  Paul Ryan: “Donald Trump Plans To Resign From ...  fake  \n",
       "923                                                     fake  \n",
       "924  BREAKING: The Democrat James Comey Has Been Ha...  fake  \n",
       "925  Bachmann: “White People Have Suffered More In ...  fake  \n",
       "\n",
       "[926 rows x 3 columns]"
      ]
     },
     "execution_count": 4,
     "metadata": {},
     "output_type": "execute_result"
    }
   ],
   "source": [
    "text_data = politifact_news[[\"text\", \"title\", \"truth\"]]\n",
    "text_data"
   ]
  },
  {
   "cell_type": "code",
   "execution_count": 5,
   "metadata": {},
   "outputs": [
    {
     "data": {
      "text/html": [
       "<div>\n",
       "<style scoped>\n",
       "    .dataframe tbody tr th:only-of-type {\n",
       "        vertical-align: middle;\n",
       "    }\n",
       "\n",
       "    .dataframe tbody tr th {\n",
       "        vertical-align: top;\n",
       "    }\n",
       "\n",
       "    .dataframe thead th {\n",
       "        text-align: right;\n",
       "    }\n",
       "</style>\n",
       "<table border=\"1\" class=\"dataframe\">\n",
       "  <thead>\n",
       "    <tr style=\"text-align: right;\">\n",
       "      <th></th>\n",
       "      <th>text</th>\n",
       "      <th>title</th>\n",
       "      <th>truth</th>\n",
       "    </tr>\n",
       "  </thead>\n",
       "  <tbody>\n",
       "    <tr>\n",
       "      <th>0</th>\n",
       "      <td>{inouye, pm, s.amdt, question, d-oh, mikulski,...</td>\n",
       "      <td>{u.s., call, senate, votes, 111th, congress, r...</td>\n",
       "      <td>real</td>\n",
       "    </tr>\n",
       "    <tr>\n",
       "      <th>1</th>\n",
       "      <td>{family, carrie, many, debate, trump, donald, ...</td>\n",
       "      <td>{obama, prejean, trump}</td>\n",
       "      <td>real</td>\n",
       "    </tr>\n",
       "    <tr>\n",
       "      <th>2</th>\n",
       "      <td>{4/9-12/15, 5/16-17/06, 2/16-20/12, 11/15-18/1...</td>\n",
       "      <td>{job, ratings, congress}</td>\n",
       "      <td>real</td>\n",
       "    </tr>\n",
       "    <tr>\n",
       "      <th>3</th>\n",
       "      <td>{efforts, legislation, members, john, risk, gl...</td>\n",
       "      <td>{terrorists, introduces, act, gop, keep, ameri...</td>\n",
       "      <td>real</td>\n",
       "    </tr>\n",
       "    <tr>\n",
       "      <th>4</th>\n",
       "      <td>{officials, terry, theres, 500, slate, cost, ...</td>\n",
       "      <td>{supermax, end, sight}</td>\n",
       "      <td>real</td>\n",
       "    </tr>\n",
       "    <tr>\n",
       "      <th>...</th>\n",
       "      <td>...</td>\n",
       "      <td>...</td>\n",
       "      <td>...</td>\n",
       "    </tr>\n",
       "    <tr>\n",
       "      <th>921</th>\n",
       "      <td>{last, received, stealing, night, fire, pm, ki...</td>\n",
       "      <td>{183st, checkers, killed, employees, manager, ...</td>\n",
       "      <td>fake</td>\n",
       "    </tr>\n",
       "    <tr>\n",
       "      <th>922</th>\n",
       "      <td>{cause, setup, directly, go, full, belong, gif...</td>\n",
       "      <td>{30, next, trump, ryan, donald, ”, plans, with...</td>\n",
       "      <td>fake</td>\n",
       "    </tr>\n",
       "    <tr>\n",
       "      <th>923</th>\n",
       "      <td>{necessary, browser, instructions, web, enable...</td>\n",
       "      <td>{}</td>\n",
       "      <td>fake</td>\n",
       "    </tr>\n",
       "    <tr>\n",
       "      <th>924</th>\n",
       "      <td>{girlfriend, sickos, freedom, promised, clock,...</td>\n",
       "      <td>{democrat, details, affair, james, revealed, c...</td>\n",
       "      <td>fake</td>\n",
       "    </tr>\n",
       "    <tr>\n",
       "      <th>925</th>\n",
       "      <td>{claiming, created, side, small-scale, go, fou...</td>\n",
       "      <td>{blacks, people, last, suffered, 8, ”, bachman...</td>\n",
       "      <td>fake</td>\n",
       "    </tr>\n",
       "  </tbody>\n",
       "</table>\n",
       "<p>926 rows × 3 columns</p>\n",
       "</div>"
      ],
      "text/plain": [
       "                                                  text  \\\n",
       "0    {inouye, pm, s.amdt, question, d-oh, mikulski,...   \n",
       "1    {family, carrie, many, debate, trump, donald, ...   \n",
       "2    {4/9-12/15, 5/16-17/06, 2/16-20/12, 11/15-18/1...   \n",
       "3    {efforts, legislation, members, john, risk, gl...   \n",
       "4    {officials, terry, theres, 500, slate, cost, ...   \n",
       "..                                                 ...   \n",
       "921  {last, received, stealing, night, fire, pm, ki...   \n",
       "922  {cause, setup, directly, go, full, belong, gif...   \n",
       "923  {necessary, browser, instructions, web, enable...   \n",
       "924  {girlfriend, sickos, freedom, promised, clock,...   \n",
       "925  {claiming, created, side, small-scale, go, fou...   \n",
       "\n",
       "                                                 title truth  \n",
       "0    {u.s., call, senate, votes, 111th, congress, r...  real  \n",
       "1                              {obama, prejean, trump}  real  \n",
       "2                             {job, ratings, congress}  real  \n",
       "3    {terrorists, introduces, act, gop, keep, ameri...  real  \n",
       "4                               {supermax, end, sight}  real  \n",
       "..                                                 ...   ...  \n",
       "921  {183st, checkers, killed, employees, manager, ...  fake  \n",
       "922  {30, next, trump, ryan, donald, ”, plans, with...  fake  \n",
       "923                                                 {}  fake  \n",
       "924  {democrat, details, affair, james, revealed, c...  fake  \n",
       "925  {blacks, people, last, suffered, 8, ”, bachman...  fake  \n",
       "\n",
       "[926 rows x 3 columns]"
      ]
     },
     "execution_count": 5,
     "metadata": {},
     "output_type": "execute_result"
    }
   ],
   "source": [
    "punctuation =  set('!\"$%&\\'()*+,-./:;<=>?[\\\\]^_`{|}~•@#')\n",
    "stopwords = set(stopwords.words('english'))\n",
    "p_stemmer = PorterStemmer()\n",
    "wordnet_lemmatizer = WordNetLemmatizer()\n",
    "\n",
    "text_data = text_data.apply(lambda x: x.astype(str).str.lower())\n",
    "text_data[[\"text\", \"title\"]] = text_data[[\"text\", \"title\"]].applymap(word_tokenize)\n",
    "text_data[[\"text\", \"title\"]] = text_data[[\"text\", \"title\"]].applymap(set)\n",
    "text_data[[\"text\", \"title\"]] = text_data[[\"text\", \"title\"]].applymap(lambda x: x - stopwords)\n",
    "text_data[[\"text\", \"title\"]] = text_data[[\n",
    "    \"text\", \"title\"]].applymap(lambda x: x - punctuation)\n",
    "    \n",
    "text_data"
   ]
  },
  {
   "cell_type": "code",
   "execution_count": 6,
   "metadata": {},
   "outputs": [
    {
     "data": {
      "text/html": [
       "<div>\n",
       "<style scoped>\n",
       "    .dataframe tbody tr th:only-of-type {\n",
       "        vertical-align: middle;\n",
       "    }\n",
       "\n",
       "    .dataframe tbody tr th {\n",
       "        vertical-align: top;\n",
       "    }\n",
       "\n",
       "    .dataframe thead th {\n",
       "        text-align: right;\n",
       "    }\n",
       "</style>\n",
       "<table border=\"1\" class=\"dataframe\">\n",
       "  <thead>\n",
       "    <tr style=\"text-align: right;\">\n",
       "      <th></th>\n",
       "      <th>text</th>\n",
       "      <th>title</th>\n",
       "      <th>truth</th>\n",
       "    </tr>\n",
       "  </thead>\n",
       "  <tbody>\n",
       "    <tr>\n",
       "      <th>0</th>\n",
       "      <td>[inouy, pm, s.amdt, question, d-oh, mikulski, ...</td>\n",
       "      <td>[u.s., call, senat, vote, 111th, congress, roll]</td>\n",
       "      <td>real</td>\n",
       "    </tr>\n",
       "    <tr>\n",
       "      <th>1</th>\n",
       "      <td>[famili, carri, mani, debat, trump, donald, be...</td>\n",
       "      <td>[obama, prejean, trump]</td>\n",
       "      <td>real</td>\n",
       "    </tr>\n",
       "    <tr>\n",
       "      <th>2</th>\n",
       "      <td>[4/9-12/15, 5/16-17/06, 2/16-20/12, 11/15-18/1...</td>\n",
       "      <td>[job, rate, congress]</td>\n",
       "      <td>real</td>\n",
       "    </tr>\n",
       "    <tr>\n",
       "      <th>3</th>\n",
       "      <td>[effort, legisl, member, john, risk, global, m...</td>\n",
       "      <td>[terrorist, introduc, act, gop, keep, america,...</td>\n",
       "      <td>real</td>\n",
       "    </tr>\n",
       "    <tr>\n",
       "      <th>4</th>\n",
       "      <td>[offici, terri, there, 500, slate, cost, jail...</td>\n",
       "      <td>[supermax, end, sight]</td>\n",
       "      <td>real</td>\n",
       "    </tr>\n",
       "    <tr>\n",
       "      <th>...</th>\n",
       "      <td>...</td>\n",
       "      <td>...</td>\n",
       "      <td>...</td>\n",
       "    </tr>\n",
       "    <tr>\n",
       "      <th>921</th>\n",
       "      <td>[last, receiv, steal, night, fire, pm, kill, s...</td>\n",
       "      <td>[183st, checker, kill, employe, manag, 10, 27ave]</td>\n",
       "      <td>fake</td>\n",
       "    </tr>\n",
       "    <tr>\n",
       "      <th>922</th>\n",
       "      <td>[caus, setup, directli, go, full, belong, gift...</td>\n",
       "      <td>[30, next, trump, ryan, donald, ”, plan, withi...</td>\n",
       "      <td>fake</td>\n",
       "    </tr>\n",
       "    <tr>\n",
       "      <th>923</th>\n",
       "      <td>[necessari, browser, instruct, web, enabl, jav...</td>\n",
       "      <td>[]</td>\n",
       "      <td>fake</td>\n",
       "    </tr>\n",
       "    <tr>\n",
       "      <th>924</th>\n",
       "      <td>[girlfriend, sicko, freedom, promis, clock, wa...</td>\n",
       "      <td>[democrat, detail, affair, jame, reveal, comey...</td>\n",
       "      <td>fake</td>\n",
       "    </tr>\n",
       "    <tr>\n",
       "      <th>925</th>\n",
       "      <td>[claim, creat, side, small-scal, go, four, gon...</td>\n",
       "      <td>[black, peopl, last, suffer, 8, ”, bachmann, c...</td>\n",
       "      <td>fake</td>\n",
       "    </tr>\n",
       "  </tbody>\n",
       "</table>\n",
       "<p>926 rows × 3 columns</p>\n",
       "</div>"
      ],
      "text/plain": [
       "                                                  text  \\\n",
       "0    [inouy, pm, s.amdt, question, d-oh, mikulski, ...   \n",
       "1    [famili, carri, mani, debat, trump, donald, be...   \n",
       "2    [4/9-12/15, 5/16-17/06, 2/16-20/12, 11/15-18/1...   \n",
       "3    [effort, legisl, member, john, risk, global, m...   \n",
       "4    [offici, terri, there, 500, slate, cost, jail...   \n",
       "..                                                 ...   \n",
       "921  [last, receiv, steal, night, fire, pm, kill, s...   \n",
       "922  [caus, setup, directli, go, full, belong, gift...   \n",
       "923  [necessari, browser, instruct, web, enabl, jav...   \n",
       "924  [girlfriend, sicko, freedom, promis, clock, wa...   \n",
       "925  [claim, creat, side, small-scal, go, four, gon...   \n",
       "\n",
       "                                                 title truth  \n",
       "0     [u.s., call, senat, vote, 111th, congress, roll]  real  \n",
       "1                              [obama, prejean, trump]  real  \n",
       "2                                [job, rate, congress]  real  \n",
       "3    [terrorist, introduc, act, gop, keep, america,...  real  \n",
       "4                               [supermax, end, sight]  real  \n",
       "..                                                 ...   ...  \n",
       "921  [183st, checker, kill, employe, manag, 10, 27ave]  fake  \n",
       "922  [30, next, trump, ryan, donald, ”, plan, withi...  fake  \n",
       "923                                                 []  fake  \n",
       "924  [democrat, detail, affair, jame, reveal, comey...  fake  \n",
       "925  [black, peopl, last, suffer, 8, ”, bachmann, c...  fake  \n",
       "\n",
       "[926 rows x 3 columns]"
      ]
     },
     "execution_count": 6,
     "metadata": {},
     "output_type": "execute_result"
    }
   ],
   "source": [
    "text_data[[\"text\", \"title\"]] = text_data[[\"text\", \"title\"]].applymap(\n",
    "    lambda x: list(map(lambda token: p_stemmer.stem(token), x)))\n",
    "text_data[[\"text\", \"title\"]] = text_data[[\"text\", \"title\"]].applymap(\n",
    "    lambda x: list(map(lambda token: wordnet_lemmatizer.lemmatize(token), x)))\n",
    "\n",
    "text_data"
   ]
  },
  {
   "cell_type": "code",
   "execution_count": 7,
   "metadata": {},
   "outputs": [],
   "source": [
    "vectorizer = CountVectorizer(\n",
    "    lowercase=False,\n",
    "    preprocessor=lambda x: x,\n",
    "    stop_words=None,\n",
    "    tokenizer=lambda x: text_data[\"text\"][int(x)]\n",
    ")\n",
    "\n",
    "text_td_matrix = vectorizer.fit_transform([str(i) for i in range(len(text_data[\"text\"]))])"
   ]
  },
  {
   "cell_type": "code",
   "execution_count": 8,
   "metadata": {},
   "outputs": [
    {
     "data": {
      "text/plain": [
       "<926x29651 sparse matrix of type '<class 'numpy.int64'>'\n",
       "\twith 224007 stored elements in Compressed Sparse Row format>"
      ]
     },
     "execution_count": 8,
     "metadata": {},
     "output_type": "execute_result"
    }
   ],
   "source": [
    "text_td_matrix"
   ]
  },
  {
   "cell_type": "code",
   "execution_count": 9,
   "metadata": {},
   "outputs": [
    {
     "data": {
      "text/plain": [
       "(926, 2)"
      ]
     },
     "execution_count": 9,
     "metadata": {},
     "output_type": "execute_result"
    }
   ],
   "source": [
    "pca = TruncatedSVD(n_components=2, random_state=random_state)\n",
    "projection = pca.fit_transform(text_td_matrix)\n",
    "projection.shape\n"
   ]
  },
  {
   "cell_type": "code",
   "execution_count": 10,
   "metadata": {},
   "outputs": [
    {
     "data": {
      "text/plain": [
       "<matplotlib.collections.PathCollection at 0x7fdaa13a0210>"
      ]
     },
     "execution_count": 10,
     "metadata": {},
     "output_type": "execute_result"
    },
    {
     "data": {
      "image/png": "[encoded data removed]",
      "text/plain": [
       "<Figure size 432x288 with 1 Axes>"
      ]
     },
     "metadata": {
      "needs_background": "light"
     },
     "output_type": "display_data"
    }
   ],
   "source": [
    "colors = [\"green\" if truth == \"real\" else \"red\" for truth in text_data[\"truth\"]]\n",
    "plt.scatter(projection[:, 0], projection[:, 1], c=colors)"
   ]
  },
  {
   "cell_type": "code",
   "execution_count": 11,
   "metadata": {},
   "outputs": [
    {
     "data": {
      "text/plain": [
       "(926, 2)"
      ]
     },
     "execution_count": 11,
     "metadata": {},
     "output_type": "execute_result"
    }
   ],
   "source": [
    "intermediate_pca = TruncatedSVD(n_components=100, random_state=random_state)\n",
    "tsne = TSNE(n_components=2, learning_rate='auto', init='random', random_state=random_state)\n",
    "\n",
    "intermediate_matrix = intermediate_pca.fit_transform(text_td_matrix)\n",
    "projection = tsne.fit_transform(intermediate_matrix)\n",
    "projection.shape"
   ]
  },
  {
   "cell_type": "code",
   "execution_count": 12,
   "metadata": {},
   "outputs": [
    {
     "data": {
      "text/plain": [
       "<matplotlib.collections.PathCollection at 0x7fda9e64fb90>"
      ]
     },
     "execution_count": 12,
     "metadata": {},
     "output_type": "execute_result"
    },
    {
     "data": {
      "image/png": "[encoded data removed]",
      "text/plain": [
       "<Figure size 432x288 with 1 Axes>"
      ]
     },
     "metadata": {
      "needs_background": "light"
     },
     "output_type": "display_data"
    }
   ],
   "source": [
    "colors = [\"green\" if truth == \"real\" else \"red\" for truth in text_data[\"truth\"]]\n",
    "plt.scatter(projection[:, 0], projection[:, 1], c=colors)"
   ]
  },
  {
   "cell_type": "code",
   "execution_count": 16,
   "metadata": {},
   "outputs": [
    {
     "data": {
      "text/plain": [
       "array([\"''\", \"''a\", \"''i\", ..., '\\ufeff', '🇺🇸mflynnjr🇺🇸', '💎stock'],\n",
       "      dtype=object)"
      ]
     },
     "execution_count": 16,
     "metadata": {},
     "output_type": "execute_result"
    }
   ],
   "source": [
    "vectorizer.get_feature_names_out()"
   ]
  },
  {
   "cell_type": "markdown",
   "metadata": {},
   "source": [
    "------------------------------------------------------------------------------------------------------------------------------------------------------------------------------------------------------------------------------------------------------------"
   ]
  },
  {
   "cell_type": "markdown",
   "metadata": {},
   "source": [
    "First, we load the tweets from our dataset to a Pandas DataFrame object for easier usage. We use a helper function ``collect_tweets`` that also adds a ``truth`` value to the tweet, depending on what kind of news it is talking about. Let's see how the tweets look like. "
   ]
  },
  {
   "cell_type": "code",
   "execution_count": 14,
   "metadata": {},
   "outputs": [
    {
     "ename": "AttributeError",
     "evalue": "module 'os' has no attribute 'list'",
     "output_type": "error",
     "traceback": [
      "\u001b[0;31m---------------------------------------------------------------------------\u001b[0m",
      "\u001b[0;31mAttributeError\u001b[0m                            Traceback (most recent call last)",
      "\u001b[0;32m<ipython-input-14-75b7a7d2b3d4>\u001b[0m in \u001b[0;36m<module>\u001b[0;34m\u001b[0m\n\u001b[0;32m----> 1\u001b[0;31m \u001b[0mpolitifact_tweets\u001b[0m \u001b[0;34m=\u001b[0m \u001b[0mpd\u001b[0m\u001b[0;34m.\u001b[0m\u001b[0mread_json\u001b[0m\u001b[0;34m(\u001b[0m\u001b[0mcollect_tweets\u001b[0m\u001b[0;34m(\u001b[0m\u001b[0mroot_dir\u001b[0m \u001b[0;34m+\u001b[0m \u001b[0mdatasets\u001b[0m\u001b[0;34m[\u001b[0m\u001b[0;36m0\u001b[0m\u001b[0;34m]\u001b[0m\u001b[0;34m)\u001b[0m\u001b[0;34m)\u001b[0m\u001b[0;34m\u001b[0m\u001b[0;34m\u001b[0m\u001b[0m\n\u001b[0m\u001b[1;32m      2\u001b[0m \u001b[0mpolitifact_tweets\u001b[0m\u001b[0;34m.\u001b[0m\u001b[0mhead\u001b[0m\u001b[0;34m(\u001b[0m\u001b[0;36m1\u001b[0m\u001b[0;34m)\u001b[0m\u001b[0;34m\u001b[0m\u001b[0;34m\u001b[0m\u001b[0m\n",
      "\u001b[0;32m/media/jakob/DATA/School/TUM/PDS/FakeNews/utils.py\u001b[0m in \u001b[0;36mcollect_tweets\u001b[0;34m(rootdir, get_retweets)\u001b[0m\n\u001b[1;32m     19\u001b[0m \u001b[0;34m\u001b[0m\u001b[0m\n\u001b[1;32m     20\u001b[0m             \u001b[0mtweets_dir\u001b[0m \u001b[0;34m=\u001b[0m \u001b[0mdir\u001b[0m \u001b[0;34m+\u001b[0m \u001b[0;34m\"/\"\u001b[0m \u001b[0;34m+\u001b[0m \u001b[0msubdir\u001b[0m \u001b[0;34m+\u001b[0m \u001b[0;34m\"/tweets\"\u001b[0m\u001b[0;34m\u001b[0m\u001b[0;34m\u001b[0m\u001b[0m\n\u001b[0;32m---> 21\u001b[0;31m             \u001b[0mtweets\u001b[0m \u001b[0;34m=\u001b[0m \u001b[0mload_tweets\u001b[0m\u001b[0;34m(\u001b[0m\u001b[0mtweets_dir\u001b[0m\u001b[0;34m,\u001b[0m \u001b[0mtruth\u001b[0m\u001b[0;34m,\u001b[0m \u001b[0mtweets\u001b[0m\u001b[0;34m)\u001b[0m\u001b[0;34m\u001b[0m\u001b[0;34m\u001b[0m\u001b[0m\n\u001b[0m\u001b[1;32m     22\u001b[0m \u001b[0;34m\u001b[0m\u001b[0m\n\u001b[1;32m     23\u001b[0m             \u001b[0;32mif\u001b[0m \u001b[0mget_retweets\u001b[0m\u001b[0;34m:\u001b[0m\u001b[0;34m\u001b[0m\u001b[0;34m\u001b[0m\u001b[0m\n",
      "\u001b[0;32m/media/jakob/DATA/School/TUM/PDS/FakeNews/utils.py\u001b[0m in \u001b[0;36mload_tweets\u001b[0;34m(dir, truth, lst)\u001b[0m\n\u001b[1;32m      4\u001b[0m \u001b[0;34m\u001b[0m\u001b[0m\n\u001b[1;32m      5\u001b[0m \u001b[0;32mdef\u001b[0m \u001b[0mload_tweets\u001b[0m\u001b[0;34m(\u001b[0m\u001b[0mdir\u001b[0m\u001b[0;34m,\u001b[0m \u001b[0mtruth\u001b[0m\u001b[0;34m,\u001b[0m \u001b[0mlst\u001b[0m\u001b[0;34m)\u001b[0m\u001b[0;34m:\u001b[0m\u001b[0;34m\u001b[0m\u001b[0;34m\u001b[0m\u001b[0m\n\u001b[0;32m----> 6\u001b[0;31m     \u001b[0;32mfor\u001b[0m \u001b[0mtweet_file\u001b[0m \u001b[0;32min\u001b[0m \u001b[0mos\u001b[0m\u001b[0;34m.\u001b[0m\u001b[0mlist\u001b[0m\u001b[0;34m(\u001b[0m\u001b[0mdir\u001b[0m\u001b[0;34m)\u001b[0m\u001b[0;34m:\u001b[0m\u001b[0;34m\u001b[0m\u001b[0;34m\u001b[0m\u001b[0m\n\u001b[0m\u001b[1;32m      7\u001b[0m         \u001b[0;32mwith\u001b[0m \u001b[0mopen\u001b[0m\u001b[0;34m(\u001b[0m\u001b[0mtweet_file\u001b[0m\u001b[0;34m)\u001b[0m \u001b[0;32mas\u001b[0m \u001b[0mf\u001b[0m\u001b[0;34m:\u001b[0m\u001b[0;34m\u001b[0m\u001b[0;34m\u001b[0m\u001b[0m\n\u001b[1;32m      8\u001b[0m             \u001b[0mtweet\u001b[0m \u001b[0;34m=\u001b[0m \u001b[0mjson\u001b[0m\u001b[0;34m.\u001b[0m\u001b[0mload\u001b[0m\u001b[0;34m(\u001b[0m\u001b[0mf\u001b[0m\u001b[0;34m)\u001b[0m\u001b[0;34m\u001b[0m\u001b[0;34m\u001b[0m\u001b[0m\n",
      "\u001b[0;31mAttributeError\u001b[0m: module 'os' has no attribute 'list'"
     ]
    }
   ],
   "source": [
    "politifact_tweets = pd.read_json(collect_tweets(root_dir + datasets[0]))\n",
    "politifact_tweets.head(1)"
   ]
  },
  {
   "cell_type": "markdown",
   "metadata": {},
   "source": [
    "We can see that the most important attributes of a tweet are ``text`` and ``user``. The ``place`` attribute is also very interesting, but is unfortunately not present in all tweets. Now, let's take a closer look at the ``user`` objects."
   ]
  },
  {
   "cell_type": "code",
   "execution_count": null,
   "metadata": {},
   "outputs": [],
   "source": [
    "politifact_tweets[\"user\"].head(1)\n"
   ]
  },
  {
   "cell_type": "markdown",
   "metadata": {},
   "source": [
    "There are a number of interesting fields in the user object:\n",
    "- ``verified`` (tells us whether the account is verified or not)\n",
    "- ``followers_count``\n",
    "- ``friends_count``\n",
    "- ``favourites_count`` (the number of tweets the user has liked in their lifetime)\n",
    "- ``statuses_count`` (the number of tweets and retweets the user has issued in their lifetime)\n",
    "\n",
    "The above fields all have integer or boolean values, which makes them easy to work with in the context of data analysis. We will use these fields to try to visualize the users that tweeted real or fake news. Because we have 5 features, we will need some kind of dimensionality reduction to visualize them in 2D. "
   ]
  },
  {
   "cell_type": "code",
   "execution_count": null,
   "metadata": {},
   "outputs": [],
   "source": [
    "features = [\"verified\", \"followers_count\", \"friends_count\", \"favourites_count\", \"statuses_count\"]\n",
    "\n",
    "politifact_tweets.drop(politifact_tweets.columns.difference([\"user\", \"truth\"]), 1, inplace=True)\n",
    "\n",
    "\n"
   ]
  }
 ],
 "metadata": {
  "interpreter": {
   "hash": "916dbcbb3f70747c44a77c7bcd40155683ae19c65e1c03b4aa3499c5328201f1"
  },
  "kernelspec": {
   "display_name": "Python 3.8.10 64-bit",
   "language": "python",
   "name": "python3"
  },
  "language_info": {
   "codemirror_mode": {
    "name": "ipython",
    "version": 3
   },
   "file_extension": ".py",
   "mimetype": "text/x-python",
   "name": "python",
   "nbconvert_exporter": "python",
   "pygments_lexer": "ipython3",
   "version": "3.7.11"
  },
  "orig_nbformat": 4
 },
 "nbformat": 4,
 "nbformat_minor": 2
}
